{
 "cells": [
  {
   "cell_type": "markdown",
   "metadata": {},
   "source": [
    "# Captstone 3"
   ]
  },
  {
   "cell_type": "code",
   "execution_count": 1,
   "metadata": {},
   "outputs": [],
   "source": [
    "import math\n",
    "import pandas as pd\n",
    "from scipy import stats\n",
    "import seaborn as sns \n",
    "import matplotlib.pyplot as plt\n",
    "sns.set()\n",
    "import warnings\n",
    "warnings.filterwarnings(\"ignore\")"
   ]
  },
  {
   "cell_type": "code",
   "execution_count": 2,
   "metadata": {
    "scrolled": true
   },
   "outputs": [],
   "source": [
    "#read the CSV dataset into dataframe\n",
    "df = pd.read_csv(r\"C:\\Users\\kofie\\OneDrive\\capstoneproject.csv\")"
   ]
  },
  {
   "cell_type": "markdown",
   "metadata": {},
   "source": [
    "# Introduction"
   ]
  },
  {
   "cell_type": "markdown",
   "metadata": {},
   "source": [
    "This data set is from Affirm Lending Agency.They are a financial lending agency that leands individuals with loans for purchases beyond their means for a specific items. They offer flexibility in offering financial help with policies like zero down with first purchase or 0% APR financing. There are are 15 different merchants in the data set in which Affirm provides Financial support for their customers. These 15 different merchants are in for categories which are all in the data set. I will be exploring the data to make findings on which merchants industry I would recommend busniess development based on the loan return performance. "
   ]
  },
  {
   "cell_type": "markdown",
   "metadata": {},
   "source": [
    "#  Testing for 2 hypothesis\n",
    "# 1. Is there a significant difference in  the mean of the loan return percentage between jewlery and furniture?\n",
    "# 2. Is there a significant difference in the meanof the loan return percentage between music and apparel?"
   ]
  },
  {
   "cell_type": "markdown",
   "metadata": {},
   "source": [
    "# The first five set of the DataFrame"
   ]
  },
  {
   "cell_type": "code",
   "execution_count": 3,
   "metadata": {},
   "outputs": [
    {
     "data": {
      "text/html": [
       "<div>\n",
       "<style scoped>\n",
       "    .dataframe tbody tr th:only-of-type {\n",
       "        vertical-align: middle;\n",
       "    }\n",
       "\n",
       "    .dataframe tbody tr th {\n",
       "        vertical-align: top;\n",
       "    }\n",
       "\n",
       "    .dataframe thead th {\n",
       "        text-align: right;\n",
       "    }\n",
       "</style>\n",
       "<table border=\"1\" class=\"dataframe\">\n",
       "  <thead>\n",
       "    <tr style=\"text-align: right;\">\n",
       "      <th></th>\n",
       "      <th>merchant_id</th>\n",
       "      <th>user_id</th>\n",
       "      <th>checkout_id</th>\n",
       "      <th>checkout_date</th>\n",
       "      <th>loan_amount</th>\n",
       "      <th>down_payment_amount</th>\n",
       "      <th>users_first_capture</th>\n",
       "      <th>user_dob_year</th>\n",
       "      <th>loan_length_months</th>\n",
       "      <th>mdr</th>\n",
       "      <th>apr</th>\n",
       "      <th>fico_score</th>\n",
       "      <th>loan_return_percentage</th>\n",
       "      <th>merchant_name</th>\n",
       "      <th>category</th>\n",
       "    </tr>\n",
       "  </thead>\n",
       "  <tbody>\n",
       "    <tr>\n",
       "      <th>0</th>\n",
       "      <td>ZXTF6RNQXU3VCMHV</td>\n",
       "      <td>6387-9021-JSOJ</td>\n",
       "      <td>3AOXIJUSJKQOE0UB</td>\n",
       "      <td>2/6/2016 0:00</td>\n",
       "      <td>1060.0</td>\n",
       "      <td>0.0</td>\n",
       "      <td>10/13/2015</td>\n",
       "      <td>1972</td>\n",
       "      <td>12</td>\n",
       "      <td>0.025</td>\n",
       "      <td>0.25</td>\n",
       "      <td>685</td>\n",
       "      <td>0.0055</td>\n",
       "      <td>Goat, LLC</td>\n",
       "      <td>Apparel</td>\n",
       "    </tr>\n",
       "    <tr>\n",
       "      <th>1</th>\n",
       "      <td>YKHCNPR33GOHG3M6</td>\n",
       "      <td>3200-9015-GCZG</td>\n",
       "      <td>YWMTY1ZYAXB4G0LV</td>\n",
       "      <td>2/1/2016 0:00</td>\n",
       "      <td>2300.0</td>\n",
       "      <td>0.0</td>\n",
       "      <td>0</td>\n",
       "      <td>1981</td>\n",
       "      <td>12</td>\n",
       "      <td>0.019</td>\n",
       "      <td>0.30</td>\n",
       "      <td>628</td>\n",
       "      <td>0.0353</td>\n",
       "      <td>Cheddar Inc.</td>\n",
       "      <td>Apparel</td>\n",
       "    </tr>\n",
       "    <tr>\n",
       "      <th>2</th>\n",
       "      <td>MNLK8D11U6PV4THN</td>\n",
       "      <td>2656-3540-OPOR</td>\n",
       "      <td>6ANRFMR2W3YTVBP6</td>\n",
       "      <td>3/31/2016 0:00</td>\n",
       "      <td>850.0</td>\n",
       "      <td>0.0</td>\n",
       "      <td>0</td>\n",
       "      <td>1983</td>\n",
       "      <td>6</td>\n",
       "      <td>0.059</td>\n",
       "      <td>0.00</td>\n",
       "      <td>808</td>\n",
       "      <td>0.0584</td>\n",
       "      <td>Pepperjack Co.</td>\n",
       "      <td>Furniture</td>\n",
       "    </tr>\n",
       "    <tr>\n",
       "      <th>3</th>\n",
       "      <td>MNLK8D11U6PV4THN</td>\n",
       "      <td>0175-9602-ERQN</td>\n",
       "      <td>P5C004D6YERT9S8G</td>\n",
       "      <td>3/28/2016 0:00</td>\n",
       "      <td>950.0</td>\n",
       "      <td>0.0</td>\n",
       "      <td>0</td>\n",
       "      <td>1981</td>\n",
       "      <td>6</td>\n",
       "      <td>0.059</td>\n",
       "      <td>0.00</td>\n",
       "      <td>612</td>\n",
       "      <td>0.0759</td>\n",
       "      <td>Pepperjack Co.</td>\n",
       "      <td>Furniture</td>\n",
       "    </tr>\n",
       "    <tr>\n",
       "      <th>4</th>\n",
       "      <td>MNLK8D11U6PV4THN</td>\n",
       "      <td>6053-1602-FBDR</td>\n",
       "      <td>XEIT9H4G4BNF8MNB</td>\n",
       "      <td>1/5/2016 0:00</td>\n",
       "      <td>859.0</td>\n",
       "      <td>0.0</td>\n",
       "      <td>0</td>\n",
       "      <td>1951</td>\n",
       "      <td>6</td>\n",
       "      <td>0.059</td>\n",
       "      <td>0.00</td>\n",
       "      <td>783</td>\n",
       "      <td>0.1019</td>\n",
       "      <td>Pepperjack Co.</td>\n",
       "      <td>Furniture</td>\n",
       "    </tr>\n",
       "  </tbody>\n",
       "</table>\n",
       "</div>"
      ],
      "text/plain": [
       "        merchant_id         user_id       checkout_id   checkout_date  \\\n",
       "0  ZXTF6RNQXU3VCMHV  6387-9021-JSOJ  3AOXIJUSJKQOE0UB   2/6/2016 0:00   \n",
       "1  YKHCNPR33GOHG3M6  3200-9015-GCZG  YWMTY1ZYAXB4G0LV   2/1/2016 0:00   \n",
       "2  MNLK8D11U6PV4THN  2656-3540-OPOR  6ANRFMR2W3YTVBP6  3/31/2016 0:00   \n",
       "3  MNLK8D11U6PV4THN  0175-9602-ERQN  P5C004D6YERT9S8G  3/28/2016 0:00   \n",
       "4  MNLK8D11U6PV4THN  6053-1602-FBDR  XEIT9H4G4BNF8MNB   1/5/2016 0:00   \n",
       "\n",
       "   loan_amount  down_payment_amount users_first_capture  user_dob_year  \\\n",
       "0       1060.0                  0.0          10/13/2015           1972   \n",
       "1       2300.0                  0.0                   0           1981   \n",
       "2        850.0                  0.0                   0           1983   \n",
       "3        950.0                  0.0                   0           1981   \n",
       "4        859.0                  0.0                   0           1951   \n",
       "\n",
       "   loan_length_months    mdr   apr  fico_score  loan_return_percentage  \\\n",
       "0                  12  0.025  0.25         685                  0.0055   \n",
       "1                  12  0.019  0.30         628                  0.0353   \n",
       "2                   6  0.059  0.00         808                  0.0584   \n",
       "3                   6  0.059  0.00         612                  0.0759   \n",
       "4                   6  0.059  0.00         783                  0.1019   \n",
       "\n",
       "    merchant_name   category  \n",
       "0       Goat, LLC    Apparel  \n",
       "1    Cheddar Inc.    Apparel  \n",
       "2  Pepperjack Co.  Furniture  \n",
       "3  Pepperjack Co.  Furniture  \n",
       "4  Pepperjack Co.  Furniture  "
      ]
     },
     "execution_count": 3,
     "metadata": {},
     "output_type": "execute_result"
    }
   ],
   "source": [
    "df.head()"
   ]
  },
  {
   "cell_type": "markdown",
   "metadata": {},
   "source": [
    "# Total number of rows and columns in the whole DataFrame"
   ]
  },
  {
   "cell_type": "code",
   "execution_count": 4,
   "metadata": {},
   "outputs": [
    {
     "data": {
      "text/plain": [
       "(43687, 15)"
      ]
     },
     "execution_count": 4,
     "metadata": {},
     "output_type": "execute_result"
    }
   ],
   "source": [
    "df.shape"
   ]
  },
  {
   "cell_type": "markdown",
   "metadata": {},
   "source": [
    "# This are all the 15 total columns in the DataFrame."
   ]
  },
  {
   "cell_type": "code",
   "execution_count": 5,
   "metadata": {},
   "outputs": [
    {
     "data": {
      "text/plain": [
       "Index(['merchant_id', 'user_id', 'checkout_id', 'checkout_date', 'loan_amount',\n",
       "       'down_payment_amount', 'users_first_capture', 'user_dob_year',\n",
       "       'loan_length_months', 'mdr', 'apr', 'fico_score',\n",
       "       'loan_return_percentage', 'merchant_name', 'category'],\n",
       "      dtype='object')"
      ]
     },
     "execution_count": 5,
     "metadata": {},
     "output_type": "execute_result"
    }
   ],
   "source": [
    "df.columns"
   ]
  },
  {
   "cell_type": "markdown",
   "metadata": {},
   "source": [
    "# Total number of columns and the non null count."
   ]
  },
  {
   "cell_type": "code",
   "execution_count": 6,
   "metadata": {},
   "outputs": [
    {
     "name": "stdout",
     "output_type": "stream",
     "text": [
      "<class 'pandas.core.frame.DataFrame'>\n",
      "RangeIndex: 43687 entries, 0 to 43686\n",
      "Data columns (total 15 columns):\n",
      " #   Column                  Non-Null Count  Dtype  \n",
      "---  ------                  --------------  -----  \n",
      " 0   merchant_id             43687 non-null  object \n",
      " 1   user_id                 43687 non-null  object \n",
      " 2   checkout_id             43687 non-null  object \n",
      " 3   checkout_date           43687 non-null  object \n",
      " 4   loan_amount             43687 non-null  float64\n",
      " 5   down_payment_amount     43687 non-null  float64\n",
      " 6   users_first_capture     43687 non-null  object \n",
      " 7   user_dob_year           43687 non-null  int64  \n",
      " 8   loan_length_months      43687 non-null  int64  \n",
      " 9   mdr                     43687 non-null  float64\n",
      " 10  apr                     43687 non-null  float64\n",
      " 11  fico_score              43687 non-null  int64  \n",
      " 12  loan_return_percentage  43687 non-null  float64\n",
      " 13  merchant_name           43652 non-null  object \n",
      " 14  category                43652 non-null  object \n",
      "dtypes: float64(5), int64(3), object(7)\n",
      "memory usage: 5.0+ MB\n"
     ]
    }
   ],
   "source": [
    "df.info()"
   ]
  },
  {
   "cell_type": "markdown",
   "metadata": {},
   "source": [
    "# The last 5 of the DataFrame"
   ]
  },
  {
   "cell_type": "code",
   "execution_count": 7,
   "metadata": {},
   "outputs": [
    {
     "data": {
      "text/html": [
       "<div>\n",
       "<style scoped>\n",
       "    .dataframe tbody tr th:only-of-type {\n",
       "        vertical-align: middle;\n",
       "    }\n",
       "\n",
       "    .dataframe tbody tr th {\n",
       "        vertical-align: top;\n",
       "    }\n",
       "\n",
       "    .dataframe thead th {\n",
       "        text-align: right;\n",
       "    }\n",
       "</style>\n",
       "<table border=\"1\" class=\"dataframe\">\n",
       "  <thead>\n",
       "    <tr style=\"text-align: right;\">\n",
       "      <th></th>\n",
       "      <th>merchant_id</th>\n",
       "      <th>user_id</th>\n",
       "      <th>checkout_id</th>\n",
       "      <th>checkout_date</th>\n",
       "      <th>loan_amount</th>\n",
       "      <th>down_payment_amount</th>\n",
       "      <th>users_first_capture</th>\n",
       "      <th>user_dob_year</th>\n",
       "      <th>loan_length_months</th>\n",
       "      <th>mdr</th>\n",
       "      <th>apr</th>\n",
       "      <th>fico_score</th>\n",
       "      <th>loan_return_percentage</th>\n",
       "      <th>merchant_name</th>\n",
       "      <th>category</th>\n",
       "    </tr>\n",
       "  </thead>\n",
       "  <tbody>\n",
       "    <tr>\n",
       "      <th>43682</th>\n",
       "      <td>YKHCNPR33GOHG3M6</td>\n",
       "      <td>9204-0197-JBKL</td>\n",
       "      <td>N14OJLG6BO0K3S3X</td>\n",
       "      <td>3/15/2016 0:00</td>\n",
       "      <td>77.48</td>\n",
       "      <td>0.0</td>\n",
       "      <td>9/4/2014</td>\n",
       "      <td>1969</td>\n",
       "      <td>6</td>\n",
       "      <td>0.019</td>\n",
       "      <td>0.3</td>\n",
       "      <td>593</td>\n",
       "      <td>0.1004</td>\n",
       "      <td>Cheddar Inc.</td>\n",
       "      <td>Apparel</td>\n",
       "    </tr>\n",
       "    <tr>\n",
       "      <th>43683</th>\n",
       "      <td>8L2VTJ7XV2QQ4PCU</td>\n",
       "      <td>1004-4182-JPMI</td>\n",
       "      <td>2F1V4JGLMMSFW2CZ</td>\n",
       "      <td>3/25/2016 0:00</td>\n",
       "      <td>2312.91</td>\n",
       "      <td>0.0</td>\n",
       "      <td>0</td>\n",
       "      <td>1983</td>\n",
       "      <td>12</td>\n",
       "      <td>0.099</td>\n",
       "      <td>0.0</td>\n",
       "      <td>646</td>\n",
       "      <td>0.1253</td>\n",
       "      <td>Swiss &amp; Co.</td>\n",
       "      <td>Furniture</td>\n",
       "    </tr>\n",
       "    <tr>\n",
       "      <th>43684</th>\n",
       "      <td>MNLK8D11U6PV4THN</td>\n",
       "      <td>6218-0969-KJGR</td>\n",
       "      <td>FR4S58SZTSNBM241</td>\n",
       "      <td>2/8/2016 0:00</td>\n",
       "      <td>1033.13</td>\n",
       "      <td>0.0</td>\n",
       "      <td>0</td>\n",
       "      <td>1976</td>\n",
       "      <td>6</td>\n",
       "      <td>0.059</td>\n",
       "      <td>0.0</td>\n",
       "      <td>711</td>\n",
       "      <td>-0.7391</td>\n",
       "      <td>Pepperjack Co.</td>\n",
       "      <td>Furniture</td>\n",
       "    </tr>\n",
       "    <tr>\n",
       "      <th>43685</th>\n",
       "      <td>P2T82BO89LRD4WYH</td>\n",
       "      <td>4871-4224-IMOW</td>\n",
       "      <td>TO0O1CFITSXFXZ0K</td>\n",
       "      <td>1/27/2016 0:00</td>\n",
       "      <td>331.00</td>\n",
       "      <td>0.0</td>\n",
       "      <td>0</td>\n",
       "      <td>1953</td>\n",
       "      <td>12</td>\n",
       "      <td>0.018</td>\n",
       "      <td>0.3</td>\n",
       "      <td>573</td>\n",
       "      <td>0.1687</td>\n",
       "      <td>Brie Corp.</td>\n",
       "      <td>Music</td>\n",
       "    </tr>\n",
       "    <tr>\n",
       "      <th>43686</th>\n",
       "      <td>ZXTF6RNQXU3VCMHV</td>\n",
       "      <td>8997-3872-PRAE</td>\n",
       "      <td>STHFSI82K7ZIN1EF</td>\n",
       "      <td>1/29/2016 0:00</td>\n",
       "      <td>137.72</td>\n",
       "      <td>0.0</td>\n",
       "      <td>0</td>\n",
       "      <td>1977</td>\n",
       "      <td>12</td>\n",
       "      <td>0.025</td>\n",
       "      <td>0.3</td>\n",
       "      <td>590</td>\n",
       "      <td>0.1902</td>\n",
       "      <td>Goat, LLC</td>\n",
       "      <td>Apparel</td>\n",
       "    </tr>\n",
       "  </tbody>\n",
       "</table>\n",
       "</div>"
      ],
      "text/plain": [
       "            merchant_id         user_id       checkout_id   checkout_date  \\\n",
       "43682  YKHCNPR33GOHG3M6  9204-0197-JBKL  N14OJLG6BO0K3S3X  3/15/2016 0:00   \n",
       "43683  8L2VTJ7XV2QQ4PCU  1004-4182-JPMI  2F1V4JGLMMSFW2CZ  3/25/2016 0:00   \n",
       "43684  MNLK8D11U6PV4THN  6218-0969-KJGR  FR4S58SZTSNBM241   2/8/2016 0:00   \n",
       "43685  P2T82BO89LRD4WYH  4871-4224-IMOW  TO0O1CFITSXFXZ0K  1/27/2016 0:00   \n",
       "43686  ZXTF6RNQXU3VCMHV  8997-3872-PRAE  STHFSI82K7ZIN1EF  1/29/2016 0:00   \n",
       "\n",
       "       loan_amount  down_payment_amount users_first_capture  user_dob_year  \\\n",
       "43682        77.48                  0.0            9/4/2014           1969   \n",
       "43683      2312.91                  0.0                   0           1983   \n",
       "43684      1033.13                  0.0                   0           1976   \n",
       "43685       331.00                  0.0                   0           1953   \n",
       "43686       137.72                  0.0                   0           1977   \n",
       "\n",
       "       loan_length_months    mdr  apr  fico_score  loan_return_percentage  \\\n",
       "43682                   6  0.019  0.3         593                  0.1004   \n",
       "43683                  12  0.099  0.0         646                  0.1253   \n",
       "43684                   6  0.059  0.0         711                 -0.7391   \n",
       "43685                  12  0.018  0.3         573                  0.1687   \n",
       "43686                  12  0.025  0.3         590                  0.1902   \n",
       "\n",
       "        merchant_name   category  \n",
       "43682    Cheddar Inc.    Apparel  \n",
       "43683     Swiss & Co.  Furniture  \n",
       "43684  Pepperjack Co.  Furniture  \n",
       "43685      Brie Corp.      Music  \n",
       "43686       Goat, LLC    Apparel  "
      ]
     },
     "execution_count": 7,
     "metadata": {},
     "output_type": "execute_result"
    }
   ],
   "source": [
    "df.tail()"
   ]
  },
  {
   "cell_type": "markdown",
   "metadata": {},
   "source": [
    "# There is a total of 4 unique values in the category columns which would ne the main testers for my hypothesis"
   ]
  },
  {
   "cell_type": "code",
   "execution_count": 8,
   "metadata": {},
   "outputs": [
    {
     "data": {
      "text/plain": [
       "4"
      ]
     },
     "execution_count": 8,
     "metadata": {},
     "output_type": "execute_result"
    }
   ],
   "source": [
    "df['category'].nunique()"
   ]
  },
  {
   "cell_type": "markdown",
   "metadata": {},
   "source": [
    "# The max, min, count, median and mean of the four different categories. we can see which category has the highest mean in loan amount."
   ]
  },
  {
   "cell_type": "code",
   "execution_count": 9,
   "metadata": {},
   "outputs": [
    {
     "data": {
      "text/html": [
       "<div>\n",
       "<style scoped>\n",
       "    .dataframe tbody tr th:only-of-type {\n",
       "        vertical-align: middle;\n",
       "    }\n",
       "\n",
       "    .dataframe tbody tr th {\n",
       "        vertical-align: top;\n",
       "    }\n",
       "\n",
       "    .dataframe thead th {\n",
       "        text-align: right;\n",
       "    }\n",
       "</style>\n",
       "<table border=\"1\" class=\"dataframe\">\n",
       "  <thead>\n",
       "    <tr style=\"text-align: right;\">\n",
       "      <th></th>\n",
       "      <th>max</th>\n",
       "      <th>min</th>\n",
       "      <th>count</th>\n",
       "      <th>median</th>\n",
       "      <th>mean</th>\n",
       "    </tr>\n",
       "    <tr>\n",
       "      <th>category</th>\n",
       "      <th></th>\n",
       "      <th></th>\n",
       "      <th></th>\n",
       "      <th></th>\n",
       "      <th></th>\n",
       "    </tr>\n",
       "  </thead>\n",
       "  <tbody>\n",
       "    <tr>\n",
       "      <th>Apparel</th>\n",
       "      <td>34020.0</td>\n",
       "      <td>0.23</td>\n",
       "      <td>26478</td>\n",
       "      <td>305.085</td>\n",
       "      <td>536.286634</td>\n",
       "    </tr>\n",
       "    <tr>\n",
       "      <th>Furniture</th>\n",
       "      <td>8650.0</td>\n",
       "      <td>60.00</td>\n",
       "      <td>11485</td>\n",
       "      <td>950.000</td>\n",
       "      <td>1230.559438</td>\n",
       "    </tr>\n",
       "    <tr>\n",
       "      <th>Jewelry</th>\n",
       "      <td>20610.0</td>\n",
       "      <td>1.00</td>\n",
       "      <td>578</td>\n",
       "      <td>2346.650</td>\n",
       "      <td>3116.663772</td>\n",
       "    </tr>\n",
       "    <tr>\n",
       "      <th>Music</th>\n",
       "      <td>8574.0</td>\n",
       "      <td>17.99</td>\n",
       "      <td>5111</td>\n",
       "      <td>426.990</td>\n",
       "      <td>599.368898</td>\n",
       "    </tr>\n",
       "  </tbody>\n",
       "</table>\n",
       "</div>"
      ],
      "text/plain": [
       "               max    min  count    median         mean\n",
       "category                                               \n",
       "Apparel    34020.0   0.23  26478   305.085   536.286634\n",
       "Furniture   8650.0  60.00  11485   950.000  1230.559438\n",
       "Jewelry    20610.0   1.00    578  2346.650  3116.663772\n",
       "Music       8574.0  17.99   5111   426.990   599.368898"
      ]
     },
     "execution_count": 9,
     "metadata": {},
     "output_type": "execute_result"
    }
   ],
   "source": [
    "df.groupby('category').loan_amount.agg(['max', 'min', 'count', 'median', 'mean'])"
   ]
  },
  {
   "cell_type": "markdown",
   "metadata": {},
   "source": [
    "# This also shows the max , min, count, median and mean of the loan return percentage of the four different categories"
   ]
  },
  {
   "cell_type": "code",
   "execution_count": 10,
   "metadata": {},
   "outputs": [
    {
     "data": {
      "text/html": [
       "<div>\n",
       "<style scoped>\n",
       "    .dataframe tbody tr th:only-of-type {\n",
       "        vertical-align: middle;\n",
       "    }\n",
       "\n",
       "    .dataframe tbody tr th {\n",
       "        vertical-align: top;\n",
       "    }\n",
       "\n",
       "    .dataframe thead th {\n",
       "        text-align: right;\n",
       "    }\n",
       "</style>\n",
       "<table border=\"1\" class=\"dataframe\">\n",
       "  <thead>\n",
       "    <tr style=\"text-align: right;\">\n",
       "      <th></th>\n",
       "      <th>max</th>\n",
       "      <th>min</th>\n",
       "      <th>count</th>\n",
       "      <th>median</th>\n",
       "      <th>mean</th>\n",
       "    </tr>\n",
       "    <tr>\n",
       "      <th>category</th>\n",
       "      <th></th>\n",
       "      <th></th>\n",
       "      <th></th>\n",
       "      <th></th>\n",
       "      <th></th>\n",
       "    </tr>\n",
       "  </thead>\n",
       "  <tbody>\n",
       "    <tr>\n",
       "      <th>Apparel</th>\n",
       "      <td>0.2000</td>\n",
       "      <td>-0.9998</td>\n",
       "      <td>26478</td>\n",
       "      <td>0.0938</td>\n",
       "      <td>0.060404</td>\n",
       "    </tr>\n",
       "    <tr>\n",
       "      <th>Furniture</th>\n",
       "      <td>0.2000</td>\n",
       "      <td>-0.9992</td>\n",
       "      <td>11485</td>\n",
       "      <td>0.0924</td>\n",
       "      <td>0.060087</td>\n",
       "    </tr>\n",
       "    <tr>\n",
       "      <th>Jewelry</th>\n",
       "      <td>0.1998</td>\n",
       "      <td>-0.9933</td>\n",
       "      <td>578</td>\n",
       "      <td>0.0933</td>\n",
       "      <td>0.055528</td>\n",
       "    </tr>\n",
       "    <tr>\n",
       "      <th>Music</th>\n",
       "      <td>0.2000</td>\n",
       "      <td>-0.9973</td>\n",
       "      <td>5111</td>\n",
       "      <td>0.0955</td>\n",
       "      <td>0.061575</td>\n",
       "    </tr>\n",
       "  </tbody>\n",
       "</table>\n",
       "</div>"
      ],
      "text/plain": [
       "              max     min  count  median      mean\n",
       "category                                          \n",
       "Apparel    0.2000 -0.9998  26478  0.0938  0.060404\n",
       "Furniture  0.2000 -0.9992  11485  0.0924  0.060087\n",
       "Jewelry    0.1998 -0.9933    578  0.0933  0.055528\n",
       "Music      0.2000 -0.9973   5111  0.0955  0.061575"
      ]
     },
     "execution_count": 10,
     "metadata": {},
     "output_type": "execute_result"
    }
   ],
   "source": [
    "df.groupby('category').loan_return_percentage.agg(['max', 'min', 'count', 'median', 'mean'])"
   ]
  },
  {
   "cell_type": "markdown",
   "metadata": {},
   "source": [
    "From the table above shows jewelry being the only category with a lower maximum loan return percentage. Aparel dominating in counts showing more peope assocaited with that category and  also jewelry being the least counts slo showing less people in that category"
   ]
  },
  {
   "cell_type": "markdown",
   "metadata": {},
   "source": [
    "# Comparing the means of the rows in the category columns showing which highest numbers in the loan amount, down payment amount and the loan return percentage."
   ]
  },
  {
   "cell_type": "code",
   "execution_count": 11,
   "metadata": {},
   "outputs": [
    {
     "data": {
      "text/html": [
       "<div>\n",
       "<style scoped>\n",
       "    .dataframe tbody tr th:only-of-type {\n",
       "        vertical-align: middle;\n",
       "    }\n",
       "\n",
       "    .dataframe tbody tr th {\n",
       "        vertical-align: top;\n",
       "    }\n",
       "\n",
       "    .dataframe thead th {\n",
       "        text-align: right;\n",
       "    }\n",
       "</style>\n",
       "<table border=\"1\" class=\"dataframe\">\n",
       "  <thead>\n",
       "    <tr style=\"text-align: right;\">\n",
       "      <th></th>\n",
       "      <th>loan_amount</th>\n",
       "      <th>down_payment_amount</th>\n",
       "      <th>user_dob_year</th>\n",
       "      <th>loan_length_months</th>\n",
       "      <th>mdr</th>\n",
       "      <th>apr</th>\n",
       "      <th>fico_score</th>\n",
       "      <th>loan_return_percentage</th>\n",
       "    </tr>\n",
       "    <tr>\n",
       "      <th>category</th>\n",
       "      <th></th>\n",
       "      <th></th>\n",
       "      <th></th>\n",
       "      <th></th>\n",
       "      <th></th>\n",
       "      <th></th>\n",
       "      <th></th>\n",
       "      <th></th>\n",
       "    </tr>\n",
       "  </thead>\n",
       "  <tbody>\n",
       "    <tr>\n",
       "      <th>Music</th>\n",
       "      <td>599.368898</td>\n",
       "      <td>19.872412</td>\n",
       "      <td>1976.069458</td>\n",
       "      <td>10.861867</td>\n",
       "      <td>0.022738</td>\n",
       "      <td>0.261671</td>\n",
       "      <td>638.351986</td>\n",
       "      <td>0.061575</td>\n",
       "    </tr>\n",
       "    <tr>\n",
       "      <th>Jewelry</th>\n",
       "      <td>3116.663772</td>\n",
       "      <td>152.510536</td>\n",
       "      <td>1975.666090</td>\n",
       "      <td>10.365052</td>\n",
       "      <td>0.027749</td>\n",
       "      <td>0.220597</td>\n",
       "      <td>691.358131</td>\n",
       "      <td>0.055528</td>\n",
       "    </tr>\n",
       "    <tr>\n",
       "      <th>Furniture</th>\n",
       "      <td>1230.559438</td>\n",
       "      <td>18.189283</td>\n",
       "      <td>1976.280975</td>\n",
       "      <td>7.344188</td>\n",
       "      <td>0.067669</td>\n",
       "      <td>0.012984</td>\n",
       "      <td>675.165694</td>\n",
       "      <td>0.060087</td>\n",
       "    </tr>\n",
       "    <tr>\n",
       "      <th>Apparel</th>\n",
       "      <td>536.286634</td>\n",
       "      <td>26.246393</td>\n",
       "      <td>1974.486933</td>\n",
       "      <td>8.929224</td>\n",
       "      <td>0.019688</td>\n",
       "      <td>0.260707</td>\n",
       "      <td>639.465028</td>\n",
       "      <td>0.060404</td>\n",
       "    </tr>\n",
       "  </tbody>\n",
       "</table>\n",
       "</div>"
      ],
      "text/plain": [
       "           loan_amount  down_payment_amount  user_dob_year  \\\n",
       "category                                                     \n",
       "Music       599.368898            19.872412    1976.069458   \n",
       "Jewelry    3116.663772           152.510536    1975.666090   \n",
       "Furniture  1230.559438            18.189283    1976.280975   \n",
       "Apparel     536.286634            26.246393    1974.486933   \n",
       "\n",
       "           loan_length_months       mdr       apr  fico_score  \\\n",
       "category                                                        \n",
       "Music               10.861867  0.022738  0.261671  638.351986   \n",
       "Jewelry             10.365052  0.027749  0.220597  691.358131   \n",
       "Furniture            7.344188  0.067669  0.012984  675.165694   \n",
       "Apparel              8.929224  0.019688  0.260707  639.465028   \n",
       "\n",
       "           loan_return_percentage  \n",
       "category                           \n",
       "Music                    0.061575  \n",
       "Jewelry                  0.055528  \n",
       "Furniture                0.060087  \n",
       "Apparel                  0.060404  "
      ]
     },
     "execution_count": 11,
     "metadata": {},
     "output_type": "execute_result"
    }
   ],
   "source": [
    "tt=df.groupby('category', sort=False).mean()\n",
    "a=tt.sort_index( ascending=False)\n",
    "a"
   ]
  },
  {
   "cell_type": "markdown",
   "metadata": {},
   "source": [
    "The average loan amount of the jewelry is much higher than the average of the other category due to much higher price in jewelry purchases. This aslo makes jewelry requires much higher down payment."
   ]
  },
  {
   "cell_type": "markdown",
   "metadata": {},
   "source": [
    "# All the unique values in Merchant name. There are 15 merchant name in the DataFrame"
   ]
  },
  {
   "cell_type": "code",
   "execution_count": 12,
   "metadata": {},
   "outputs": [
    {
     "data": {
      "text/plain": [
       "15"
      ]
     },
     "execution_count": 12,
     "metadata": {},
     "output_type": "execute_result"
    }
   ],
   "source": [
    "df['merchant_name'].nunique()"
   ]
  },
  {
   "cell_type": "markdown",
   "metadata": {},
   "source": [
    "# Statistical description of the whole DataFrame. "
   ]
  },
  {
   "cell_type": "code",
   "execution_count": 13,
   "metadata": {},
   "outputs": [
    {
     "data": {
      "text/html": [
       "<div>\n",
       "<style scoped>\n",
       "    .dataframe tbody tr th:only-of-type {\n",
       "        vertical-align: middle;\n",
       "    }\n",
       "\n",
       "    .dataframe tbody tr th {\n",
       "        vertical-align: top;\n",
       "    }\n",
       "\n",
       "    .dataframe thead th {\n",
       "        text-align: right;\n",
       "    }\n",
       "</style>\n",
       "<table border=\"1\" class=\"dataframe\">\n",
       "  <thead>\n",
       "    <tr style=\"text-align: right;\">\n",
       "      <th></th>\n",
       "      <th>loan_amount</th>\n",
       "      <th>down_payment_amount</th>\n",
       "      <th>user_dob_year</th>\n",
       "      <th>loan_length_months</th>\n",
       "      <th>mdr</th>\n",
       "      <th>apr</th>\n",
       "      <th>fico_score</th>\n",
       "      <th>loan_return_percentage</th>\n",
       "    </tr>\n",
       "  </thead>\n",
       "  <tbody>\n",
       "    <tr>\n",
       "      <th>count</th>\n",
       "      <td>43687.000000</td>\n",
       "      <td>43687.000000</td>\n",
       "      <td>43687.000000</td>\n",
       "      <td>43687.000000</td>\n",
       "      <td>43687.000000</td>\n",
       "      <td>43687.000000</td>\n",
       "      <td>43687.000000</td>\n",
       "      <td>43687.000000</td>\n",
       "    </tr>\n",
       "    <tr>\n",
       "      <th>mean</th>\n",
       "      <td>760.813632</td>\n",
       "      <td>25.073145</td>\n",
       "      <td>1975.162543</td>\n",
       "      <td>8.758029</td>\n",
       "      <td>0.032777</td>\n",
       "      <td>0.195146</td>\n",
       "      <td>649.448326</td>\n",
       "      <td>0.060408</td>\n",
       "    </tr>\n",
       "    <tr>\n",
       "      <th>std</th>\n",
       "      <td>924.629640</td>\n",
       "      <td>184.794586</td>\n",
       "      <td>11.614734</td>\n",
       "      <td>3.662579</td>\n",
       "      <td>0.023479</td>\n",
       "      <td>0.123484</td>\n",
       "      <td>95.882933</td>\n",
       "      <td>0.177156</td>\n",
       "    </tr>\n",
       "    <tr>\n",
       "      <th>min</th>\n",
       "      <td>0.230000</td>\n",
       "      <td>0.000000</td>\n",
       "      <td>1899.000000</td>\n",
       "      <td>1.000000</td>\n",
       "      <td>0.000000</td>\n",
       "      <td>0.000000</td>\n",
       "      <td>0.000000</td>\n",
       "      <td>-0.999800</td>\n",
       "    </tr>\n",
       "    <tr>\n",
       "      <th>25%</th>\n",
       "      <td>210.000000</td>\n",
       "      <td>0.000000</td>\n",
       "      <td>1968.000000</td>\n",
       "      <td>6.000000</td>\n",
       "      <td>0.019000</td>\n",
       "      <td>0.000000</td>\n",
       "      <td>614.000000</td>\n",
       "      <td>0.039800</td>\n",
       "    </tr>\n",
       "    <tr>\n",
       "      <th>50%</th>\n",
       "      <td>513.000000</td>\n",
       "      <td>0.000000</td>\n",
       "      <td>1976.000000</td>\n",
       "      <td>12.000000</td>\n",
       "      <td>0.019000</td>\n",
       "      <td>0.250000</td>\n",
       "      <td>648.000000</td>\n",
       "      <td>0.093600</td>\n",
       "    </tr>\n",
       "    <tr>\n",
       "      <th>75%</th>\n",
       "      <td>950.000000</td>\n",
       "      <td>0.000000</td>\n",
       "      <td>1984.000000</td>\n",
       "      <td>12.000000</td>\n",
       "      <td>0.059000</td>\n",
       "      <td>0.300000</td>\n",
       "      <td>691.000000</td>\n",
       "      <td>0.147200</td>\n",
       "    </tr>\n",
       "    <tr>\n",
       "      <th>max</th>\n",
       "      <td>34020.000000</td>\n",
       "      <td>16520.000000</td>\n",
       "      <td>1997.000000</td>\n",
       "      <td>18.000000</td>\n",
       "      <td>0.200000</td>\n",
       "      <td>0.300000</td>\n",
       "      <td>850.000000</td>\n",
       "      <td>0.200000</td>\n",
       "    </tr>\n",
       "  </tbody>\n",
       "</table>\n",
       "</div>"
      ],
      "text/plain": [
       "        loan_amount  down_payment_amount  user_dob_year  loan_length_months  \\\n",
       "count  43687.000000         43687.000000   43687.000000        43687.000000   \n",
       "mean     760.813632            25.073145    1975.162543            8.758029   \n",
       "std      924.629640           184.794586      11.614734            3.662579   \n",
       "min        0.230000             0.000000    1899.000000            1.000000   \n",
       "25%      210.000000             0.000000    1968.000000            6.000000   \n",
       "50%      513.000000             0.000000    1976.000000           12.000000   \n",
       "75%      950.000000             0.000000    1984.000000           12.000000   \n",
       "max    34020.000000         16520.000000    1997.000000           18.000000   \n",
       "\n",
       "                mdr           apr    fico_score  loan_return_percentage  \n",
       "count  43687.000000  43687.000000  43687.000000            43687.000000  \n",
       "mean       0.032777      0.195146    649.448326                0.060408  \n",
       "std        0.023479      0.123484     95.882933                0.177156  \n",
       "min        0.000000      0.000000      0.000000               -0.999800  \n",
       "25%        0.019000      0.000000    614.000000                0.039800  \n",
       "50%        0.019000      0.250000    648.000000                0.093600  \n",
       "75%        0.059000      0.300000    691.000000                0.147200  \n",
       "max        0.200000      0.300000    850.000000                0.200000  "
      ]
     },
     "execution_count": 13,
     "metadata": {},
     "output_type": "execute_result"
    }
   ],
   "source": [
    "df.describe()"
   ]
  },
  {
   "cell_type": "markdown",
   "metadata": {},
   "source": [
    "# Total counts of all values in each respective category"
   ]
  },
  {
   "cell_type": "code",
   "execution_count": 14,
   "metadata": {},
   "outputs": [
    {
     "data": {
      "text/plain": [
       "Apparel      26478\n",
       "Furniture    11485\n",
       "Music         5111\n",
       "Jewelry        578\n",
       "Name: category, dtype: int64"
      ]
     },
     "execution_count": 14,
     "metadata": {},
     "output_type": "execute_result"
    }
   ],
   "source": [
    "category_counts = df['category'].value_counts()\n",
    "category_counts.head()"
   ]
  },
  {
   "cell_type": "markdown",
   "metadata": {},
   "source": [
    "# Comparing means of the rows in the Merchant name columns"
   ]
  },
  {
   "cell_type": "code",
   "execution_count": 15,
   "metadata": {},
   "outputs": [
    {
     "data": {
      "text/html": [
       "<div>\n",
       "<style scoped>\n",
       "    .dataframe tbody tr th:only-of-type {\n",
       "        vertical-align: middle;\n",
       "    }\n",
       "\n",
       "    .dataframe tbody tr th {\n",
       "        vertical-align: top;\n",
       "    }\n",
       "\n",
       "    .dataframe thead th {\n",
       "        text-align: right;\n",
       "    }\n",
       "</style>\n",
       "<table border=\"1\" class=\"dataframe\">\n",
       "  <thead>\n",
       "    <tr style=\"text-align: right;\">\n",
       "      <th></th>\n",
       "      <th>loan_amount</th>\n",
       "      <th>down_payment_amount</th>\n",
       "      <th>user_dob_year</th>\n",
       "      <th>loan_length_months</th>\n",
       "      <th>mdr</th>\n",
       "      <th>apr</th>\n",
       "      <th>fico_score</th>\n",
       "      <th>loan_return_percentage</th>\n",
       "    </tr>\n",
       "    <tr>\n",
       "      <th>merchant_name</th>\n",
       "      <th></th>\n",
       "      <th></th>\n",
       "      <th></th>\n",
       "      <th></th>\n",
       "      <th></th>\n",
       "      <th></th>\n",
       "      <th></th>\n",
       "      <th></th>\n",
       "    </tr>\n",
       "  </thead>\n",
       "  <tbody>\n",
       "    <tr>\n",
       "      <th>Swiss &amp; Co.</th>\n",
       "      <td>2546.208569</td>\n",
       "      <td>49.000964</td>\n",
       "      <td>1972.475177</td>\n",
       "      <td>11.559449</td>\n",
       "      <td>0.095166</td>\n",
       "      <td>0.007063</td>\n",
       "      <td>714.943262</td>\n",
       "      <td>0.063590</td>\n",
       "    </tr>\n",
       "    <tr>\n",
       "      <th>Roquefort NYC</th>\n",
       "      <td>453.286184</td>\n",
       "      <td>15.203195</td>\n",
       "      <td>1975.856954</td>\n",
       "      <td>11.404489</td>\n",
       "      <td>0.029000</td>\n",
       "      <td>0.262315</td>\n",
       "      <td>639.793574</td>\n",
       "      <td>0.060482</td>\n",
       "    </tr>\n",
       "    <tr>\n",
       "      <th>Pepperjack Co.</th>\n",
       "      <td>888.336945</td>\n",
       "      <td>9.714471</td>\n",
       "      <td>1977.179552</td>\n",
       "      <td>6.000000</td>\n",
       "      <td>0.060523</td>\n",
       "      <td>0.000000</td>\n",
       "      <td>668.502937</td>\n",
       "      <td>0.059155</td>\n",
       "    </tr>\n",
       "    <tr>\n",
       "      <th>Parmesan, LLC</th>\n",
       "      <td>4172.867291</td>\n",
       "      <td>216.859827</td>\n",
       "      <td>1971.487032</td>\n",
       "      <td>10.746398</td>\n",
       "      <td>0.024254</td>\n",
       "      <td>0.219270</td>\n",
       "      <td>693.190202</td>\n",
       "      <td>0.053688</td>\n",
       "    </tr>\n",
       "    <tr>\n",
       "      <th>Mozzarella Factory</th>\n",
       "      <td>853.512246</td>\n",
       "      <td>9.556769</td>\n",
       "      <td>1973.058462</td>\n",
       "      <td>7.163077</td>\n",
       "      <td>0.098363</td>\n",
       "      <td>0.067163</td>\n",
       "      <td>614.495385</td>\n",
       "      <td>0.068753</td>\n",
       "    </tr>\n",
       "    <tr>\n",
       "      <th>Monterey Jack Sparrow</th>\n",
       "      <td>812.712625</td>\n",
       "      <td>17.410095</td>\n",
       "      <td>1982.649165</td>\n",
       "      <td>10.124105</td>\n",
       "      <td>0.029000</td>\n",
       "      <td>0.262694</td>\n",
       "      <td>627.420048</td>\n",
       "      <td>0.051861</td>\n",
       "    </tr>\n",
       "    <tr>\n",
       "      <th>Halloumi Boards</th>\n",
       "      <td>1391.042775</td>\n",
       "      <td>56.831410</td>\n",
       "      <td>1982.158590</td>\n",
       "      <td>9.779736</td>\n",
       "      <td>0.033053</td>\n",
       "      <td>0.222990</td>\n",
       "      <td>688.127753</td>\n",
       "      <td>0.057312</td>\n",
       "    </tr>\n",
       "    <tr>\n",
       "      <th>Goat, LLC</th>\n",
       "      <td>996.364760</td>\n",
       "      <td>62.242434</td>\n",
       "      <td>1974.164915</td>\n",
       "      <td>9.489816</td>\n",
       "      <td>0.025000</td>\n",
       "      <td>0.260762</td>\n",
       "      <td>642.706965</td>\n",
       "      <td>0.062666</td>\n",
       "    </tr>\n",
       "    <tr>\n",
       "      <th>Feta R Us</th>\n",
       "      <td>400.000000</td>\n",
       "      <td>0.000000</td>\n",
       "      <td>1981.000000</td>\n",
       "      <td>12.000000</td>\n",
       "      <td>0.000000</td>\n",
       "      <td>0.300000</td>\n",
       "      <td>639.000000</td>\n",
       "      <td>0.070500</td>\n",
       "    </tr>\n",
       "    <tr>\n",
       "      <th>Cottage Company</th>\n",
       "      <td>1682.231163</td>\n",
       "      <td>24.348837</td>\n",
       "      <td>1974.023256</td>\n",
       "      <td>10.186047</td>\n",
       "      <td>0.000000</td>\n",
       "      <td>0.252558</td>\n",
       "      <td>673.000000</td>\n",
       "      <td>0.058691</td>\n",
       "    </tr>\n",
       "    <tr>\n",
       "      <th>Cheddar Inc.</th>\n",
       "      <td>492.188950</td>\n",
       "      <td>22.369812</td>\n",
       "      <td>1973.999597</td>\n",
       "      <td>8.933671</td>\n",
       "      <td>0.019000</td>\n",
       "      <td>0.260621</td>\n",
       "      <td>640.769995</td>\n",
       "      <td>0.059931</td>\n",
       "    </tr>\n",
       "    <tr>\n",
       "      <th>Brie Corp.</th>\n",
       "      <td>701.420705</td>\n",
       "      <td>23.597725</td>\n",
       "      <td>1976.273605</td>\n",
       "      <td>10.431330</td>\n",
       "      <td>0.018000</td>\n",
       "      <td>0.261288</td>\n",
       "      <td>636.647711</td>\n",
       "      <td>0.062508</td>\n",
       "    </tr>\n",
       "    <tr>\n",
       "      <th>Blue Steel</th>\n",
       "      <td>175.333333</td>\n",
       "      <td>10.800000</td>\n",
       "      <td>1977.000000</td>\n",
       "      <td>12.000000</td>\n",
       "      <td>0.000000</td>\n",
       "      <td>0.253333</td>\n",
       "      <td>584.000000</td>\n",
       "      <td>0.086700</td>\n",
       "    </tr>\n",
       "    <tr>\n",
       "      <th>Bagels &amp; Cream</th>\n",
       "      <td>155.661268</td>\n",
       "      <td>5.188336</td>\n",
       "      <td>1985.388787</td>\n",
       "      <td>7.261029</td>\n",
       "      <td>0.019000</td>\n",
       "      <td>0.262337</td>\n",
       "      <td>603.749081</td>\n",
       "      <td>0.063727</td>\n",
       "    </tr>\n",
       "    <tr>\n",
       "      <th>American Inc.</th>\n",
       "      <td>9420.000000</td>\n",
       "      <td>0.000000</td>\n",
       "      <td>1969.750000</td>\n",
       "      <td>10.500000</td>\n",
       "      <td>0.030000</td>\n",
       "      <td>0.200000</td>\n",
       "      <td>715.750000</td>\n",
       "      <td>0.113950</td>\n",
       "    </tr>\n",
       "  </tbody>\n",
       "</table>\n",
       "</div>"
      ],
      "text/plain": [
       "                       loan_amount  down_payment_amount  user_dob_year  \\\n",
       "merchant_name                                                            \n",
       "Swiss & Co.            2546.208569            49.000964    1972.475177   \n",
       "Roquefort NYC           453.286184            15.203195    1975.856954   \n",
       "Pepperjack Co.          888.336945             9.714471    1977.179552   \n",
       "Parmesan, LLC          4172.867291           216.859827    1971.487032   \n",
       "Mozzarella Factory      853.512246             9.556769    1973.058462   \n",
       "Monterey Jack Sparrow   812.712625            17.410095    1982.649165   \n",
       "Halloumi Boards        1391.042775            56.831410    1982.158590   \n",
       "Goat, LLC               996.364760            62.242434    1974.164915   \n",
       "Feta R Us               400.000000             0.000000    1981.000000   \n",
       "Cottage Company        1682.231163            24.348837    1974.023256   \n",
       "Cheddar Inc.            492.188950            22.369812    1973.999597   \n",
       "Brie Corp.              701.420705            23.597725    1976.273605   \n",
       "Blue Steel              175.333333            10.800000    1977.000000   \n",
       "Bagels & Cream          155.661268             5.188336    1985.388787   \n",
       "American Inc.          9420.000000             0.000000    1969.750000   \n",
       "\n",
       "                       loan_length_months       mdr       apr  fico_score  \\\n",
       "merchant_name                                                               \n",
       "Swiss & Co.                     11.559449  0.095166  0.007063  714.943262   \n",
       "Roquefort NYC                   11.404489  0.029000  0.262315  639.793574   \n",
       "Pepperjack Co.                   6.000000  0.060523  0.000000  668.502937   \n",
       "Parmesan, LLC                   10.746398  0.024254  0.219270  693.190202   \n",
       "Mozzarella Factory               7.163077  0.098363  0.067163  614.495385   \n",
       "Monterey Jack Sparrow           10.124105  0.029000  0.262694  627.420048   \n",
       "Halloumi Boards                  9.779736  0.033053  0.222990  688.127753   \n",
       "Goat, LLC                        9.489816  0.025000  0.260762  642.706965   \n",
       "Feta R Us                       12.000000  0.000000  0.300000  639.000000   \n",
       "Cottage Company                 10.186047  0.000000  0.252558  673.000000   \n",
       "Cheddar Inc.                     8.933671  0.019000  0.260621  640.769995   \n",
       "Brie Corp.                      10.431330  0.018000  0.261288  636.647711   \n",
       "Blue Steel                      12.000000  0.000000  0.253333  584.000000   \n",
       "Bagels & Cream                   7.261029  0.019000  0.262337  603.749081   \n",
       "American Inc.                   10.500000  0.030000  0.200000  715.750000   \n",
       "\n",
       "                       loan_return_percentage  \n",
       "merchant_name                                  \n",
       "Swiss & Co.                          0.063590  \n",
       "Roquefort NYC                        0.060482  \n",
       "Pepperjack Co.                       0.059155  \n",
       "Parmesan, LLC                        0.053688  \n",
       "Mozzarella Factory                   0.068753  \n",
       "Monterey Jack Sparrow                0.051861  \n",
       "Halloumi Boards                      0.057312  \n",
       "Goat, LLC                            0.062666  \n",
       "Feta R Us                            0.070500  \n",
       "Cottage Company                      0.058691  \n",
       "Cheddar Inc.                         0.059931  \n",
       "Brie Corp.                           0.062508  \n",
       "Blue Steel                           0.086700  \n",
       "Bagels & Cream                       0.063727  \n",
       "American Inc.                        0.113950  "
      ]
     },
     "execution_count": 15,
     "metadata": {},
     "output_type": "execute_result"
    }
   ],
   "source": [
    "tt=df.groupby('merchant_name', sort=False).mean()\n",
    "a=tt.sort_index( ascending=False)\n",
    "a"
   ]
  },
  {
   "cell_type": "markdown",
   "metadata": {},
   "source": [
    "From the table above American Inc Merchant has the highet loan retuirmn percantage. even though American Inc do not reqyuie a down payment as a matter of fat they average a zero in down payment. There are only two Merchants that has zero down payments as its average. Pepperjack co. would hae the lowest loan lentgh month which shows how quick payments are returned in a few months as compoared to the rest of the merchants."
   ]
  },
  {
   "cell_type": "markdown",
   "metadata": {},
   "source": [
    "# The visualization below shows a higher density around the 20% mark. This shows about 20% of the loan return amount over all."
   ]
  },
  {
   "cell_type": "code",
   "execution_count": 16,
   "metadata": {},
   "outputs": [
    {
     "data": {
      "image/png": "[encoded data removed]",
      "text/plain": [
       "<Figure size 432x288 with 1 Axes>"
      ]
     },
     "metadata": {},
     "output_type": "display_data"
    }
   ],
   "source": [
    "a=sns.distplot(df['loan_return_percentage'], bins=20)"
   ]
  },
  {
   "cell_type": "code",
   "execution_count": 17,
   "metadata": {},
   "outputs": [
    {
     "data": {
      "image/png": "[encoded data removed]",
      "text/plain": [
       "<Figure size 432x288 with 1 Axes>"
      ]
     },
     "metadata": {},
     "output_type": "display_data"
    }
   ],
   "source": [
    "ax = sns.histplot(df['loan_return_percentage'], bins=20)"
   ]
  },
  {
   "cell_type": "markdown",
   "metadata": {},
   "source": [
    "# Scatterplot of how fico score affects loan return percentage in all categories"
   ]
  },
  {
   "cell_type": "code",
   "execution_count": 139,
   "metadata": {},
   "outputs": [
    {
     "data": {
      "text/plain": [
       "<AxesSubplot:xlabel='loan_return_percentage', ylabel='fico_score'>"
      ]
     },
     "execution_count": 139,
     "metadata": {},
     "output_type": "execute_result"
    },
    {
     "data": {
      "image/png": "[encoded data removed]",
      "text/plain": [
       "<Figure size 432x288 with 1 Axes>"
      ]
     },
     "metadata": {},
     "output_type": "display_data"
    }
   ],
   "source": [
    "sns.scatterplot(x=\"loan_return_percentage\", y=\"fico_score\", hue='category', data=df)"
   ]
  },
  {
   "cell_type": "markdown",
   "metadata": {},
   "source": [
    "The scatter plot depicts furniture being the category with higher fico score and also with a higher rate of return in loan percentage. Orange color has dominated to top right corner."
   ]
  },
  {
   "cell_type": "markdown",
   "metadata": {},
   "source": [
    "# How does down payment affect the length of the time in months?"
   ]
  },
  {
   "cell_type": "code",
   "execution_count": 140,
   "metadata": {},
   "outputs": [
    {
     "data": {
      "text/plain": [
       "<AxesSubplot:xlabel='down_payment_amount', ylabel='loan_length_months'>"
      ]
     },
     "execution_count": 140,
     "metadata": {},
     "output_type": "execute_result"
    },
    {
     "data": {
      "image/png": "[encoded data removed]",
      "text/plain": [
       "<Figure size 432x288 with 1 Axes>"
      ]
     },
     "metadata": {},
     "output_type": "display_data"
    }
   ],
   "source": [
    "sns.scatterplot(x=\"down_payment_amount\", y=\"loan_length_months\", data=df)"
   ]
  },
  {
   "cell_type": "markdown",
   "metadata": {},
   "source": [
    "We can see from the above scatter plot that, there is no signifiant correlation but rater a slight one between down payment amount and loan length amount. This was to show whether poeple with larger down payment takes few time to finsih their loan payment.It shows alot more people with lesser down payment take much longer time than people with larger down payment"
   ]
  },
  {
   "cell_type": "markdown",
   "metadata": {},
   "source": [
    "# Scatterplot of how apr affects down payment percentage"
   ]
  },
  {
   "cell_type": "code",
   "execution_count": 141,
   "metadata": {},
   "outputs": [
    {
     "data": {
      "text/plain": [
       "<AxesSubplot:xlabel='down_payment_amount', ylabel='apr'>"
      ]
     },
     "execution_count": 141,
     "metadata": {},
     "output_type": "execute_result"
    },
    {
     "data": {
      "image/png": "[encoded data removed]",
      "text/plain": [
       "<Figure size 432x288 with 1 Axes>"
      ]
     },
     "metadata": {},
     "output_type": "display_data"
    }
   ],
   "source": [
    "sns.scatterplot(x=\"down_payment_amount\", y=\"apr\", data=df)"
   ]
  },
  {
   "cell_type": "markdown",
   "metadata": {},
   "source": [
    "This scatter plots shows more poeple with higher APR making less down payment. There is a few also making very larger down payment with a low or moderate APR."
   ]
  },
  {
   "cell_type": "markdown",
   "metadata": {},
   "source": [
    "# Using boxplot to visualize the loan return percentage in all categories"
   ]
  },
  {
   "cell_type": "code",
   "execution_count": 142,
   "metadata": {},
   "outputs": [
    {
     "data": {
      "text/plain": [
       "<AxesSubplot:xlabel='category', ylabel='loan_return_percentage'>"
      ]
     },
     "execution_count": 142,
     "metadata": {},
     "output_type": "execute_result"
    },
    {
     "data": {
      "image/png": "[encoded data removed]",
      "text/plain": [
       "<Figure size 432x288 with 1 Axes>"
      ]
     },
     "metadata": {},
     "output_type": "display_data"
    }
   ],
   "source": [
    "sns.boxplot(y=\"loan_return_percentage\", x=\"category\", data=df)"
   ]
  },
  {
   "cell_type": "markdown",
   "metadata": {},
   "source": [
    "The above shows about similar loan return percentage but jewelry seems to have some outliers that none of the other categories doesnt have."
   ]
  },
  {
   "cell_type": "code",
   "execution_count": 143,
   "metadata": {
    "scrolled": false
   },
   "outputs": [
    {
     "data": {
      "text/html": [
       "<div>\n",
       "<style scoped>\n",
       "    .dataframe tbody tr th:only-of-type {\n",
       "        vertical-align: middle;\n",
       "    }\n",
       "\n",
       "    .dataframe tbody tr th {\n",
       "        vertical-align: top;\n",
       "    }\n",
       "\n",
       "    .dataframe thead th {\n",
       "        text-align: right;\n",
       "    }\n",
       "</style>\n",
       "<table border=\"1\" class=\"dataframe\">\n",
       "  <thead>\n",
       "    <tr style=\"text-align: right;\">\n",
       "      <th></th>\n",
       "      <th>merchant_id</th>\n",
       "      <th>user_id</th>\n",
       "      <th>checkout_id</th>\n",
       "      <th>checkout_date</th>\n",
       "      <th>loan_amount</th>\n",
       "      <th>down_payment_amount</th>\n",
       "      <th>users_first_capture</th>\n",
       "      <th>user_dob_year</th>\n",
       "      <th>loan_length_months</th>\n",
       "      <th>mdr</th>\n",
       "      <th>apr</th>\n",
       "      <th>fico_score</th>\n",
       "      <th>loan_return_percentage</th>\n",
       "      <th>merchant_name</th>\n",
       "      <th>category</th>\n",
       "    </tr>\n",
       "  </thead>\n",
       "  <tbody>\n",
       "    <tr>\n",
       "      <th>310</th>\n",
       "      <td>LWGKASO1U9UXFLAJ</td>\n",
       "      <td>9038-8312-TJOQ</td>\n",
       "      <td>MXAM4UQ215IG6JLQ</td>\n",
       "      <td>3/27/2016 0:00</td>\n",
       "      <td>999.0</td>\n",
       "      <td>0.0</td>\n",
       "      <td>0</td>\n",
       "      <td>1991</td>\n",
       "      <td>12</td>\n",
       "      <td>0.035</td>\n",
       "      <td>0.2999</td>\n",
       "      <td>657</td>\n",
       "      <td>0.0177</td>\n",
       "      <td>NaN</td>\n",
       "      <td>NaN</td>\n",
       "    </tr>\n",
       "    <tr>\n",
       "      <th>589</th>\n",
       "      <td>LWGKASO1U9UXFLAJ</td>\n",
       "      <td>5597-4447-AGCH</td>\n",
       "      <td>7E38S2PTC4JSXBT3</td>\n",
       "      <td>3/28/2016 0:00</td>\n",
       "      <td>1398.0</td>\n",
       "      <td>0.0</td>\n",
       "      <td>0</td>\n",
       "      <td>1973</td>\n",
       "      <td>3</td>\n",
       "      <td>0.035</td>\n",
       "      <td>0.1100</td>\n",
       "      <td>682</td>\n",
       "      <td>0.1520</td>\n",
       "      <td>NaN</td>\n",
       "      <td>NaN</td>\n",
       "    </tr>\n",
       "    <tr>\n",
       "      <th>6442</th>\n",
       "      <td>LWGKASO1U9UXFLAJ</td>\n",
       "      <td>0547-2789-IKAI</td>\n",
       "      <td>K0168A5YODQ78UUR</td>\n",
       "      <td>3/29/2016 0:00</td>\n",
       "      <td>999.0</td>\n",
       "      <td>0.0</td>\n",
       "      <td>0</td>\n",
       "      <td>1984</td>\n",
       "      <td>6</td>\n",
       "      <td>0.035</td>\n",
       "      <td>0.2400</td>\n",
       "      <td>668</td>\n",
       "      <td>0.1326</td>\n",
       "      <td>NaN</td>\n",
       "      <td>NaN</td>\n",
       "    </tr>\n",
       "    <tr>\n",
       "      <th>6719</th>\n",
       "      <td>LWGKASO1U9UXFLAJ</td>\n",
       "      <td>5543-8097-DOTC</td>\n",
       "      <td>KCKEJFIEKXA0SXYR</td>\n",
       "      <td>3/22/2016 0:00</td>\n",
       "      <td>999.0</td>\n",
       "      <td>0.0</td>\n",
       "      <td>0</td>\n",
       "      <td>1980</td>\n",
       "      <td>12</td>\n",
       "      <td>0.035</td>\n",
       "      <td>0.3000</td>\n",
       "      <td>628</td>\n",
       "      <td>0.1348</td>\n",
       "      <td>NaN</td>\n",
       "      <td>NaN</td>\n",
       "    </tr>\n",
       "    <tr>\n",
       "      <th>7436</th>\n",
       "      <td>LWGKASO1U9UXFLAJ</td>\n",
       "      <td>3468-6661-NDWR</td>\n",
       "      <td>8HKUY6JQ68TKFMO2</td>\n",
       "      <td>3/28/2016 0:00</td>\n",
       "      <td>1299.0</td>\n",
       "      <td>0.0</td>\n",
       "      <td>0</td>\n",
       "      <td>1963</td>\n",
       "      <td>12</td>\n",
       "      <td>0.035</td>\n",
       "      <td>0.2900</td>\n",
       "      <td>651</td>\n",
       "      <td>0.0688</td>\n",
       "      <td>NaN</td>\n",
       "      <td>NaN</td>\n",
       "    </tr>\n",
       "  </tbody>\n",
       "</table>\n",
       "</div>"
      ],
      "text/plain": [
       "           merchant_id         user_id       checkout_id   checkout_date  \\\n",
       "310   LWGKASO1U9UXFLAJ  9038-8312-TJOQ  MXAM4UQ215IG6JLQ  3/27/2016 0:00   \n",
       "589   LWGKASO1U9UXFLAJ  5597-4447-AGCH  7E38S2PTC4JSXBT3  3/28/2016 0:00   \n",
       "6442  LWGKASO1U9UXFLAJ  0547-2789-IKAI  K0168A5YODQ78UUR  3/29/2016 0:00   \n",
       "6719  LWGKASO1U9UXFLAJ  5543-8097-DOTC  KCKEJFIEKXA0SXYR  3/22/2016 0:00   \n",
       "7436  LWGKASO1U9UXFLAJ  3468-6661-NDWR  8HKUY6JQ68TKFMO2  3/28/2016 0:00   \n",
       "\n",
       "      loan_amount  down_payment_amount users_first_capture  user_dob_year  \\\n",
       "310         999.0                  0.0                   0           1991   \n",
       "589        1398.0                  0.0                   0           1973   \n",
       "6442        999.0                  0.0                   0           1984   \n",
       "6719        999.0                  0.0                   0           1980   \n",
       "7436       1299.0                  0.0                   0           1963   \n",
       "\n",
       "      loan_length_months    mdr     apr  fico_score  loan_return_percentage  \\\n",
       "310                   12  0.035  0.2999         657                  0.0177   \n",
       "589                    3  0.035  0.1100         682                  0.1520   \n",
       "6442                   6  0.035  0.2400         668                  0.1326   \n",
       "6719                  12  0.035  0.3000         628                  0.1348   \n",
       "7436                  12  0.035  0.2900         651                  0.0688   \n",
       "\n",
       "     merchant_name category  \n",
       "310            NaN      NaN  \n",
       "589            NaN      NaN  \n",
       "6442           NaN      NaN  \n",
       "6719           NaN      NaN  \n",
       "7436           NaN      NaN  "
      ]
     },
     "execution_count": 143,
     "metadata": {},
     "output_type": "execute_result"
    }
   ],
   "source": [
    "null_rows = df [df.isnull().any(axis=1)]\n",
    "null_rows.head(5)"
   ]
  },
  {
   "cell_type": "code",
   "execution_count": 144,
   "metadata": {},
   "outputs": [
    {
     "name": "stdout",
     "output_type": "stream",
     "text": [
      "<class 'pandas.core.frame.DataFrame'>\n",
      "Int64Index: 35 entries, 310 to 42370\n",
      "Data columns (total 15 columns):\n",
      " #   Column                  Non-Null Count  Dtype  \n",
      "---  ------                  --------------  -----  \n",
      " 0   merchant_id             35 non-null     object \n",
      " 1   user_id                 35 non-null     object \n",
      " 2   checkout_id             35 non-null     object \n",
      " 3   checkout_date           35 non-null     object \n",
      " 4   loan_amount             35 non-null     float64\n",
      " 5   down_payment_amount     35 non-null     float64\n",
      " 6   users_first_capture     35 non-null     object \n",
      " 7   user_dob_year           35 non-null     int64  \n",
      " 8   loan_length_months      35 non-null     int64  \n",
      " 9   mdr                     35 non-null     float64\n",
      " 10  apr                     35 non-null     float64\n",
      " 11  fico_score              35 non-null     int64  \n",
      " 12  loan_return_percentage  35 non-null     float64\n",
      " 13  merchant_name           0 non-null      object \n",
      " 14  category                0 non-null      object \n",
      "dtypes: float64(5), int64(3), object(7)\n",
      "memory usage: 4.4+ KB\n"
     ]
    }
   ],
   "source": [
    "null_rows.info()"
   ]
  },
  {
   "cell_type": "markdown",
   "metadata": {},
   "source": [
    "# All the nulls are filled with zero"
   ]
  },
  {
   "cell_type": "code",
   "execution_count": 145,
   "metadata": {},
   "outputs": [
    {
     "data": {
      "text/html": [
       "<div>\n",
       "<style scoped>\n",
       "    .dataframe tbody tr th:only-of-type {\n",
       "        vertical-align: middle;\n",
       "    }\n",
       "\n",
       "    .dataframe tbody tr th {\n",
       "        vertical-align: top;\n",
       "    }\n",
       "\n",
       "    .dataframe thead th {\n",
       "        text-align: right;\n",
       "    }\n",
       "</style>\n",
       "<table border=\"1\" class=\"dataframe\">\n",
       "  <thead>\n",
       "    <tr style=\"text-align: right;\">\n",
       "      <th></th>\n",
       "      <th>merchant_id</th>\n",
       "      <th>user_id</th>\n",
       "      <th>checkout_id</th>\n",
       "      <th>checkout_date</th>\n",
       "      <th>loan_amount</th>\n",
       "      <th>down_payment_amount</th>\n",
       "      <th>users_first_capture</th>\n",
       "      <th>user_dob_year</th>\n",
       "      <th>loan_length_months</th>\n",
       "      <th>mdr</th>\n",
       "      <th>apr</th>\n",
       "      <th>fico_score</th>\n",
       "      <th>loan_return_percentage</th>\n",
       "      <th>merchant_name</th>\n",
       "      <th>category</th>\n",
       "    </tr>\n",
       "  </thead>\n",
       "  <tbody>\n",
       "    <tr>\n",
       "      <th>310</th>\n",
       "      <td>LWGKASO1U9UXFLAJ</td>\n",
       "      <td>9038-8312-TJOQ</td>\n",
       "      <td>MXAM4UQ215IG6JLQ</td>\n",
       "      <td>3/27/2016 0:00</td>\n",
       "      <td>999.0</td>\n",
       "      <td>0.0</td>\n",
       "      <td>0</td>\n",
       "      <td>1991</td>\n",
       "      <td>12</td>\n",
       "      <td>0.035</td>\n",
       "      <td>0.2999</td>\n",
       "      <td>657</td>\n",
       "      <td>0.0177</td>\n",
       "      <td>0</td>\n",
       "      <td>0</td>\n",
       "    </tr>\n",
       "    <tr>\n",
       "      <th>589</th>\n",
       "      <td>LWGKASO1U9UXFLAJ</td>\n",
       "      <td>5597-4447-AGCH</td>\n",
       "      <td>7E38S2PTC4JSXBT3</td>\n",
       "      <td>3/28/2016 0:00</td>\n",
       "      <td>1398.0</td>\n",
       "      <td>0.0</td>\n",
       "      <td>0</td>\n",
       "      <td>1973</td>\n",
       "      <td>3</td>\n",
       "      <td>0.035</td>\n",
       "      <td>0.1100</td>\n",
       "      <td>682</td>\n",
       "      <td>0.1520</td>\n",
       "      <td>0</td>\n",
       "      <td>0</td>\n",
       "    </tr>\n",
       "    <tr>\n",
       "      <th>6442</th>\n",
       "      <td>LWGKASO1U9UXFLAJ</td>\n",
       "      <td>0547-2789-IKAI</td>\n",
       "      <td>K0168A5YODQ78UUR</td>\n",
       "      <td>3/29/2016 0:00</td>\n",
       "      <td>999.0</td>\n",
       "      <td>0.0</td>\n",
       "      <td>0</td>\n",
       "      <td>1984</td>\n",
       "      <td>6</td>\n",
       "      <td>0.035</td>\n",
       "      <td>0.2400</td>\n",
       "      <td>668</td>\n",
       "      <td>0.1326</td>\n",
       "      <td>0</td>\n",
       "      <td>0</td>\n",
       "    </tr>\n",
       "    <tr>\n",
       "      <th>6719</th>\n",
       "      <td>LWGKASO1U9UXFLAJ</td>\n",
       "      <td>5543-8097-DOTC</td>\n",
       "      <td>KCKEJFIEKXA0SXYR</td>\n",
       "      <td>3/22/2016 0:00</td>\n",
       "      <td>999.0</td>\n",
       "      <td>0.0</td>\n",
       "      <td>0</td>\n",
       "      <td>1980</td>\n",
       "      <td>12</td>\n",
       "      <td>0.035</td>\n",
       "      <td>0.3000</td>\n",
       "      <td>628</td>\n",
       "      <td>0.1348</td>\n",
       "      <td>0</td>\n",
       "      <td>0</td>\n",
       "    </tr>\n",
       "    <tr>\n",
       "      <th>7436</th>\n",
       "      <td>LWGKASO1U9UXFLAJ</td>\n",
       "      <td>3468-6661-NDWR</td>\n",
       "      <td>8HKUY6JQ68TKFMO2</td>\n",
       "      <td>3/28/2016 0:00</td>\n",
       "      <td>1299.0</td>\n",
       "      <td>0.0</td>\n",
       "      <td>0</td>\n",
       "      <td>1963</td>\n",
       "      <td>12</td>\n",
       "      <td>0.035</td>\n",
       "      <td>0.2900</td>\n",
       "      <td>651</td>\n",
       "      <td>0.0688</td>\n",
       "      <td>0</td>\n",
       "      <td>0</td>\n",
       "    </tr>\n",
       "  </tbody>\n",
       "</table>\n",
       "</div>"
      ],
      "text/plain": [
       "           merchant_id         user_id       checkout_id   checkout_date  \\\n",
       "310   LWGKASO1U9UXFLAJ  9038-8312-TJOQ  MXAM4UQ215IG6JLQ  3/27/2016 0:00   \n",
       "589   LWGKASO1U9UXFLAJ  5597-4447-AGCH  7E38S2PTC4JSXBT3  3/28/2016 0:00   \n",
       "6442  LWGKASO1U9UXFLAJ  0547-2789-IKAI  K0168A5YODQ78UUR  3/29/2016 0:00   \n",
       "6719  LWGKASO1U9UXFLAJ  5543-8097-DOTC  KCKEJFIEKXA0SXYR  3/22/2016 0:00   \n",
       "7436  LWGKASO1U9UXFLAJ  3468-6661-NDWR  8HKUY6JQ68TKFMO2  3/28/2016 0:00   \n",
       "\n",
       "      loan_amount  down_payment_amount users_first_capture  user_dob_year  \\\n",
       "310         999.0                  0.0                   0           1991   \n",
       "589        1398.0                  0.0                   0           1973   \n",
       "6442        999.0                  0.0                   0           1984   \n",
       "6719        999.0                  0.0                   0           1980   \n",
       "7436       1299.0                  0.0                   0           1963   \n",
       "\n",
       "      loan_length_months    mdr     apr  fico_score  loan_return_percentage  \\\n",
       "310                   12  0.035  0.2999         657                  0.0177   \n",
       "589                    3  0.035  0.1100         682                  0.1520   \n",
       "6442                   6  0.035  0.2400         668                  0.1326   \n",
       "6719                  12  0.035  0.3000         628                  0.1348   \n",
       "7436                  12  0.035  0.2900         651                  0.0688   \n",
       "\n",
       "      merchant_name  category  \n",
       "310               0         0  \n",
       "589               0         0  \n",
       "6442              0         0  \n",
       "6719              0         0  \n",
       "7436              0         0  "
      ]
     },
     "execution_count": 145,
     "metadata": {},
     "output_type": "execute_result"
    }
   ],
   "source": [
    "zero_filled = null_rows.fillna(0)\n",
    "zero_filled.head(5)"
   ]
  },
  {
   "cell_type": "markdown",
   "metadata": {},
   "source": [
    "# Is there any correlation between down payment amount and loan return percenatge"
   ]
  },
  {
   "cell_type": "code",
   "execution_count": 146,
   "metadata": {},
   "outputs": [
    {
     "data": {
      "text/html": [
       "<div>\n",
       "<style scoped>\n",
       "    .dataframe tbody tr th:only-of-type {\n",
       "        vertical-align: middle;\n",
       "    }\n",
       "\n",
       "    .dataframe tbody tr th {\n",
       "        vertical-align: top;\n",
       "    }\n",
       "\n",
       "    .dataframe thead th {\n",
       "        text-align: right;\n",
       "    }\n",
       "</style>\n",
       "<table border=\"1\" class=\"dataframe\">\n",
       "  <thead>\n",
       "    <tr style=\"text-align: right;\">\n",
       "      <th></th>\n",
       "      <th>down_payment_amount</th>\n",
       "      <th>loan_return_percentage</th>\n",
       "    </tr>\n",
       "  </thead>\n",
       "  <tbody>\n",
       "    <tr>\n",
       "      <th>down_payment_amount</th>\n",
       "      <td>1.000000</td>\n",
       "      <td>0.004479</td>\n",
       "    </tr>\n",
       "    <tr>\n",
       "      <th>loan_return_percentage</th>\n",
       "      <td>0.004479</td>\n",
       "      <td>1.000000</td>\n",
       "    </tr>\n",
       "  </tbody>\n",
       "</table>\n",
       "</div>"
      ],
      "text/plain": [
       "                        down_payment_amount  loan_return_percentage\n",
       "down_payment_amount                1.000000                0.004479\n",
       "loan_return_percentage             0.004479                1.000000"
      ]
     },
     "execution_count": 146,
     "metadata": {},
     "output_type": "execute_result"
    }
   ],
   "source": [
    "df[['down_payment_amount', 'loan_return_percentage']].corr()"
   ]
  },
  {
   "cell_type": "markdown",
   "metadata": {},
   "source": [
    "The mini table above shows there is no correlation between down payment and loan return percentage"
   ]
  },
  {
   "cell_type": "code",
   "execution_count": 147,
   "metadata": {},
   "outputs": [
    {
     "name": "stdout",
     "output_type": "stream",
     "text": [
      "655305\n",
      "654780\n"
     ]
    }
   ],
   "source": [
    "# Print the original size of the DataFrame\n",
    "print(df.size)\n",
    "#Drop NaN rows\n",
    "clean_df = df.dropna()\n",
    "#Print the size of the modified DataFrame\n",
    "print(clean_df.size)"
   ]
  },
  {
   "cell_type": "code",
   "execution_count": 148,
   "metadata": {},
   "outputs": [],
   "source": [
    "def series_statistics(column):\n",
    "  print('statistics for column: {}'.format(column.name))\n",
    "  print('The max value in the column: {}'.format(column.max()))\n",
    "  print('The min value in the column: {}'.format(column.min()))\n",
    "  print('The mode value in the column: {}'.format(column.mode()))\n",
    "  print('The median value in the column: {}'.format(column.median()))\n",
    "  print('The mean of the column: {}'.format(column.mean()))\n",
    "  print('The std of the column: {}'.format(column.std()))"
   ]
  },
  {
   "cell_type": "code",
   "execution_count": 149,
   "metadata": {},
   "outputs": [
    {
     "name": "stdout",
     "output_type": "stream",
     "text": [
      "statistics for column: loan_return_percentage\n",
      "The max value in the column: 0.2\n",
      "The min value in the column: -0.9998\n",
      "The mode value in the column: 0    0.037\n",
      "dtype: float64\n",
      "The median value in the column: 0.0936\n",
      "The mean of the column: 0.06039341840007349\n",
      "The std of the column: 0.1771886693849509\n"
     ]
    }
   ],
   "source": [
    "series_statistics(clean_df[ 'loan_return_percentage'])"
   ]
  },
  {
   "cell_type": "code",
   "execution_count": 150,
   "metadata": {},
   "outputs": [
    {
     "name": "stdout",
     "output_type": "stream",
     "text": [
      "statistics for column: apr\n",
      "The max value in the column: 0.3\n",
      "The min value in the column: 0.0\n",
      "The mode value in the column: 0    0.3\n",
      "dtype: float64\n",
      "The median value in the column: 0.25\n",
      "The mean of the column: 0.1951123087144036\n",
      "The std of the column: 0.12351626032888731\n"
     ]
    }
   ],
   "source": [
    "series_statistics(clean_df[ 'apr'])"
   ]
  },
  {
   "cell_type": "code",
   "execution_count": 151,
   "metadata": {},
   "outputs": [
    {
     "data": {
      "text/plain": [
       "count    43652.000000\n",
       "mean         0.060393\n",
       "std          0.177189\n",
       "min         -0.999800\n",
       "25%          0.039800\n",
       "50%          0.093600\n",
       "75%          0.147200\n",
       "max          0.200000\n",
       "Name: loan_return_percentage, dtype: float64"
      ]
     },
     "execution_count": 151,
     "metadata": {},
     "output_type": "execute_result"
    }
   ],
   "source": [
    "clean_df['loan_return_percentage'].describe()"
   ]
  },
  {
   "cell_type": "code",
   "execution_count": 152,
   "metadata": {},
   "outputs": [
    {
     "data": {
      "text/plain": [
       "count    43652.000000\n",
       "mean         0.195112\n",
       "std          0.123516\n",
       "min          0.000000\n",
       "25%          0.000000\n",
       "50%          0.250000\n",
       "75%          0.300000\n",
       "max          0.300000\n",
       "Name: apr, dtype: float64"
      ]
     },
     "execution_count": 152,
     "metadata": {},
     "output_type": "execute_result"
    }
   ],
   "source": [
    "clean_df['apr'].describe()"
   ]
  },
  {
   "cell_type": "code",
   "execution_count": 153,
   "metadata": {},
   "outputs": [
    {
     "data": {
      "text/html": [
       "<div>\n",
       "<style scoped>\n",
       "    .dataframe tbody tr th:only-of-type {\n",
       "        vertical-align: middle;\n",
       "    }\n",
       "\n",
       "    .dataframe tbody tr th {\n",
       "        vertical-align: top;\n",
       "    }\n",
       "\n",
       "    .dataframe thead th {\n",
       "        text-align: right;\n",
       "    }\n",
       "</style>\n",
       "<table border=\"1\" class=\"dataframe\">\n",
       "  <thead>\n",
       "    <tr style=\"text-align: right;\">\n",
       "      <th></th>\n",
       "      <th>loan_return_percentage</th>\n",
       "      <th>apr</th>\n",
       "      <th>down_payment_amount</th>\n",
       "    </tr>\n",
       "  </thead>\n",
       "  <tbody>\n",
       "    <tr>\n",
       "      <th>count</th>\n",
       "      <td>43652.000000</td>\n",
       "      <td>43652.000000</td>\n",
       "      <td>43652.000000</td>\n",
       "    </tr>\n",
       "    <tr>\n",
       "      <th>mean</th>\n",
       "      <td>0.060393</td>\n",
       "      <td>0.195112</td>\n",
       "      <td>25.052114</td>\n",
       "    </tr>\n",
       "    <tr>\n",
       "      <th>std</th>\n",
       "      <td>0.177189</td>\n",
       "      <td>0.123516</td>\n",
       "      <td>184.847327</td>\n",
       "    </tr>\n",
       "    <tr>\n",
       "      <th>min</th>\n",
       "      <td>-0.999800</td>\n",
       "      <td>0.000000</td>\n",
       "      <td>0.000000</td>\n",
       "    </tr>\n",
       "    <tr>\n",
       "      <th>25%</th>\n",
       "      <td>0.039800</td>\n",
       "      <td>0.000000</td>\n",
       "      <td>0.000000</td>\n",
       "    </tr>\n",
       "    <tr>\n",
       "      <th>50%</th>\n",
       "      <td>0.093600</td>\n",
       "      <td>0.250000</td>\n",
       "      <td>0.000000</td>\n",
       "    </tr>\n",
       "    <tr>\n",
       "      <th>75%</th>\n",
       "      <td>0.147200</td>\n",
       "      <td>0.300000</td>\n",
       "      <td>0.000000</td>\n",
       "    </tr>\n",
       "    <tr>\n",
       "      <th>max</th>\n",
       "      <td>0.200000</td>\n",
       "      <td>0.300000</td>\n",
       "      <td>16520.000000</td>\n",
       "    </tr>\n",
       "  </tbody>\n",
       "</table>\n",
       "</div>"
      ],
      "text/plain": [
       "       loan_return_percentage           apr  down_payment_amount\n",
       "count            43652.000000  43652.000000         43652.000000\n",
       "mean                 0.060393      0.195112            25.052114\n",
       "std                  0.177189      0.123516           184.847327\n",
       "min                 -0.999800      0.000000             0.000000\n",
       "25%                  0.039800      0.000000             0.000000\n",
       "50%                  0.093600      0.250000             0.000000\n",
       "75%                  0.147200      0.300000             0.000000\n",
       "max                  0.200000      0.300000         16520.000000"
      ]
     },
     "execution_count": 153,
     "metadata": {},
     "output_type": "execute_result"
    }
   ],
   "source": [
    "clean_df[['loan_return_percentage', 'apr', 'down_payment_amount']].describe()"
   ]
  },
  {
   "cell_type": "markdown",
   "metadata": {},
   "source": [
    "# Correlation between loan return percentage and the down payment"
   ]
  },
  {
   "cell_type": "code",
   "execution_count": 154,
   "metadata": {},
   "outputs": [
    {
     "data": {
      "text/plain": [
       "(0.004478633321981921, 0.34923377159964464)"
      ]
     },
     "execution_count": 154,
     "metadata": {},
     "output_type": "execute_result"
    }
   ],
   "source": [
    "stats.pearsonr(df['loan_return_percentage'], df['down_payment_amount'])"
   ]
  },
  {
   "cell_type": "markdown",
   "metadata": {},
   "source": [
    "# Correlation between loan return percentage and Apr."
   ]
  },
  {
   "cell_type": "code",
   "execution_count": 155,
   "metadata": {},
   "outputs": [
    {
     "data": {
      "text/plain": [
       "(0.0013001136000451673, 0.7858259849643052)"
      ]
     },
     "execution_count": 155,
     "metadata": {},
     "output_type": "execute_result"
    }
   ],
   "source": [
    "stats.pearsonr(df['loan_return_percentage'], df['apr'])"
   ]
  },
  {
   "cell_type": "markdown",
   "metadata": {},
   "source": [
    "With the above p-value it shows there is no signifcant correlation between APR and the loan return percentage."
   ]
  },
  {
   "cell_type": "code",
   "execution_count": 156,
   "metadata": {},
   "outputs": [
    {
     "name": "stdout",
     "output_type": "stream",
     "text": [
      "<class 'pandas.core.frame.DataFrame'>\n",
      "Int64Index: 0 entries\n",
      "Data columns (total 15 columns):\n",
      " #   Column                  Non-Null Count  Dtype  \n",
      "---  ------                  --------------  -----  \n",
      " 0   merchant_id             0 non-null      object \n",
      " 1   user_id                 0 non-null      object \n",
      " 2   checkout_id             0 non-null      object \n",
      " 3   checkout_date           0 non-null      object \n",
      " 4   loan_amount             0 non-null      float64\n",
      " 5   down_payment_amount     0 non-null      float64\n",
      " 6   users_first_capture     0 non-null      object \n",
      " 7   user_dob_year           0 non-null      int64  \n",
      " 8   loan_length_months      0 non-null      int64  \n",
      " 9   mdr                     0 non-null      float64\n",
      " 10  apr                     0 non-null      float64\n",
      " 11  fico_score              0 non-null      int64  \n",
      " 12  loan_return_percentage  0 non-null      float64\n",
      " 13  merchant_name           0 non-null      object \n",
      " 14  category                0 non-null      object \n",
      "dtypes: float64(5), int64(3), object(7)\n",
      "memory usage: 0.0+ bytes\n"
     ]
    }
   ],
   "source": [
    "furniture = df.iloc[(df['category'] == 'furniture').values]\n",
    "furniture.info()"
   ]
  },
  {
   "cell_type": "code",
   "execution_count": 157,
   "metadata": {},
   "outputs": [
    {
     "name": "stdout",
     "output_type": "stream",
     "text": [
      "<class 'pandas.core.frame.DataFrame'>\n",
      "Int64Index: 0 entries\n",
      "Data columns (total 15 columns):\n",
      " #   Column                  Non-Null Count  Dtype  \n",
      "---  ------                  --------------  -----  \n",
      " 0   merchant_id             0 non-null      object \n",
      " 1   user_id                 0 non-null      object \n",
      " 2   checkout_id             0 non-null      object \n",
      " 3   checkout_date           0 non-null      object \n",
      " 4   loan_amount             0 non-null      float64\n",
      " 5   down_payment_amount     0 non-null      float64\n",
      " 6   users_first_capture     0 non-null      object \n",
      " 7   user_dob_year           0 non-null      int64  \n",
      " 8   loan_length_months      0 non-null      int64  \n",
      " 9   mdr                     0 non-null      float64\n",
      " 10  apr                     0 non-null      float64\n",
      " 11  fico_score              0 non-null      int64  \n",
      " 12  loan_return_percentage  0 non-null      float64\n",
      " 13  merchant_name           0 non-null      object \n",
      " 14  category                0 non-null      object \n",
      "dtypes: float64(5), int64(3), object(7)\n",
      "memory usage: 0.0+ bytes\n"
     ]
    }
   ],
   "source": [
    "jewelry = df.iloc[(df['category'] == 'jewelry').values]\n",
    "jewelry.info()"
   ]
  },
  {
   "cell_type": "markdown",
   "metadata": {},
   "source": [
    "# Using t-test to find the significant difference of loan return percentage between furniture and jewelry."
   ]
  },
  {
   "cell_type": "code",
   "execution_count": 179,
   "metadata": {},
   "outputs": [],
   "source": [
    "df5 = df.loc[df['category'] == 'Furniture']\n",
    "df6 = df.loc[df['category'] == 'Jewelry']"
   ]
  },
  {
   "cell_type": "code",
   "execution_count": 180,
   "metadata": {},
   "outputs": [
    {
     "name": "stdout",
     "output_type": "stream",
     "text": [
      "0.5440703830544933\n"
     ]
    }
   ],
   "source": [
    "(t, p) = stats.ttest_ind(df5['loan_return_percentage'], df6['loan_return_percentage']) \n",
    "print(p)"
   ]
  },
  {
   "cell_type": "markdown",
   "metadata": {},
   "source": [
    "According to the p-value at .5440 I failed to reject the null hypothesis, therefore there is a significant difference between the two groups which is Furniture and Jewelry."
   ]
  },
  {
   "cell_type": "code",
   "execution_count": 181,
   "metadata": {},
   "outputs": [
    {
     "data": {
      "text/html": [
       "<div>\n",
       "<style scoped>\n",
       "    .dataframe tbody tr th:only-of-type {\n",
       "        vertical-align: middle;\n",
       "    }\n",
       "\n",
       "    .dataframe tbody tr th {\n",
       "        vertical-align: top;\n",
       "    }\n",
       "\n",
       "    .dataframe thead th {\n",
       "        text-align: right;\n",
       "    }\n",
       "</style>\n",
       "<table border=\"1\" class=\"dataframe\">\n",
       "  <thead>\n",
       "    <tr style=\"text-align: right;\">\n",
       "      <th></th>\n",
       "      <th>loan_amount</th>\n",
       "      <th>down_payment_amount</th>\n",
       "      <th>user_dob_year</th>\n",
       "      <th>loan_length_months</th>\n",
       "      <th>mdr</th>\n",
       "      <th>apr</th>\n",
       "      <th>fico_score</th>\n",
       "      <th>loan_return_percentage</th>\n",
       "    </tr>\n",
       "    <tr>\n",
       "      <th>merchant_name</th>\n",
       "      <th></th>\n",
       "      <th></th>\n",
       "      <th></th>\n",
       "      <th></th>\n",
       "      <th></th>\n",
       "      <th></th>\n",
       "      <th></th>\n",
       "      <th></th>\n",
       "    </tr>\n",
       "  </thead>\n",
       "  <tbody>\n",
       "    <tr>\n",
       "      <th>Swiss &amp; Co.</th>\n",
       "      <td>2546.208569</td>\n",
       "      <td>49.000964</td>\n",
       "      <td>1972.475177</td>\n",
       "      <td>11.559449</td>\n",
       "      <td>0.095166</td>\n",
       "      <td>0.007063</td>\n",
       "      <td>714.943262</td>\n",
       "      <td>0.063590</td>\n",
       "    </tr>\n",
       "    <tr>\n",
       "      <th>Roquefort NYC</th>\n",
       "      <td>453.286184</td>\n",
       "      <td>15.203195</td>\n",
       "      <td>1975.856954</td>\n",
       "      <td>11.404489</td>\n",
       "      <td>0.029000</td>\n",
       "      <td>0.262315</td>\n",
       "      <td>639.793574</td>\n",
       "      <td>0.060482</td>\n",
       "    </tr>\n",
       "    <tr>\n",
       "      <th>Pepperjack Co.</th>\n",
       "      <td>888.336945</td>\n",
       "      <td>9.714471</td>\n",
       "      <td>1977.179552</td>\n",
       "      <td>6.000000</td>\n",
       "      <td>0.060523</td>\n",
       "      <td>0.000000</td>\n",
       "      <td>668.502937</td>\n",
       "      <td>0.059155</td>\n",
       "    </tr>\n",
       "    <tr>\n",
       "      <th>Parmesan, LLC</th>\n",
       "      <td>4172.867291</td>\n",
       "      <td>216.859827</td>\n",
       "      <td>1971.487032</td>\n",
       "      <td>10.746398</td>\n",
       "      <td>0.024254</td>\n",
       "      <td>0.219270</td>\n",
       "      <td>693.190202</td>\n",
       "      <td>0.053688</td>\n",
       "    </tr>\n",
       "    <tr>\n",
       "      <th>Mozzarella Factory</th>\n",
       "      <td>853.512246</td>\n",
       "      <td>9.556769</td>\n",
       "      <td>1973.058462</td>\n",
       "      <td>7.163077</td>\n",
       "      <td>0.098363</td>\n",
       "      <td>0.067163</td>\n",
       "      <td>614.495385</td>\n",
       "      <td>0.068753</td>\n",
       "    </tr>\n",
       "    <tr>\n",
       "      <th>Monterey Jack Sparrow</th>\n",
       "      <td>812.712625</td>\n",
       "      <td>17.410095</td>\n",
       "      <td>1982.649165</td>\n",
       "      <td>10.124105</td>\n",
       "      <td>0.029000</td>\n",
       "      <td>0.262694</td>\n",
       "      <td>627.420048</td>\n",
       "      <td>0.051861</td>\n",
       "    </tr>\n",
       "    <tr>\n",
       "      <th>Halloumi Boards</th>\n",
       "      <td>1391.042775</td>\n",
       "      <td>56.831410</td>\n",
       "      <td>1982.158590</td>\n",
       "      <td>9.779736</td>\n",
       "      <td>0.033053</td>\n",
       "      <td>0.222990</td>\n",
       "      <td>688.127753</td>\n",
       "      <td>0.057312</td>\n",
       "    </tr>\n",
       "    <tr>\n",
       "      <th>Goat, LLC</th>\n",
       "      <td>996.364760</td>\n",
       "      <td>62.242434</td>\n",
       "      <td>1974.164915</td>\n",
       "      <td>9.489816</td>\n",
       "      <td>0.025000</td>\n",
       "      <td>0.260762</td>\n",
       "      <td>642.706965</td>\n",
       "      <td>0.062666</td>\n",
       "    </tr>\n",
       "    <tr>\n",
       "      <th>Feta R Us</th>\n",
       "      <td>400.000000</td>\n",
       "      <td>0.000000</td>\n",
       "      <td>1981.000000</td>\n",
       "      <td>12.000000</td>\n",
       "      <td>0.000000</td>\n",
       "      <td>0.300000</td>\n",
       "      <td>639.000000</td>\n",
       "      <td>0.070500</td>\n",
       "    </tr>\n",
       "    <tr>\n",
       "      <th>Cottage Company</th>\n",
       "      <td>1682.231163</td>\n",
       "      <td>24.348837</td>\n",
       "      <td>1974.023256</td>\n",
       "      <td>10.186047</td>\n",
       "      <td>0.000000</td>\n",
       "      <td>0.252558</td>\n",
       "      <td>673.000000</td>\n",
       "      <td>0.058691</td>\n",
       "    </tr>\n",
       "    <tr>\n",
       "      <th>Cheddar Inc.</th>\n",
       "      <td>492.188950</td>\n",
       "      <td>22.369812</td>\n",
       "      <td>1973.999597</td>\n",
       "      <td>8.933671</td>\n",
       "      <td>0.019000</td>\n",
       "      <td>0.260621</td>\n",
       "      <td>640.769995</td>\n",
       "      <td>0.059931</td>\n",
       "    </tr>\n",
       "    <tr>\n",
       "      <th>Brie Corp.</th>\n",
       "      <td>701.420705</td>\n",
       "      <td>23.597725</td>\n",
       "      <td>1976.273605</td>\n",
       "      <td>10.431330</td>\n",
       "      <td>0.018000</td>\n",
       "      <td>0.261288</td>\n",
       "      <td>636.647711</td>\n",
       "      <td>0.062508</td>\n",
       "    </tr>\n",
       "    <tr>\n",
       "      <th>Blue Steel</th>\n",
       "      <td>175.333333</td>\n",
       "      <td>10.800000</td>\n",
       "      <td>1977.000000</td>\n",
       "      <td>12.000000</td>\n",
       "      <td>0.000000</td>\n",
       "      <td>0.253333</td>\n",
       "      <td>584.000000</td>\n",
       "      <td>0.086700</td>\n",
       "    </tr>\n",
       "    <tr>\n",
       "      <th>Bagels &amp; Cream</th>\n",
       "      <td>155.661268</td>\n",
       "      <td>5.188336</td>\n",
       "      <td>1985.388787</td>\n",
       "      <td>7.261029</td>\n",
       "      <td>0.019000</td>\n",
       "      <td>0.262337</td>\n",
       "      <td>603.749081</td>\n",
       "      <td>0.063727</td>\n",
       "    </tr>\n",
       "    <tr>\n",
       "      <th>American Inc.</th>\n",
       "      <td>9420.000000</td>\n",
       "      <td>0.000000</td>\n",
       "      <td>1969.750000</td>\n",
       "      <td>10.500000</td>\n",
       "      <td>0.030000</td>\n",
       "      <td>0.200000</td>\n",
       "      <td>715.750000</td>\n",
       "      <td>0.113950</td>\n",
       "    </tr>\n",
       "  </tbody>\n",
       "</table>\n",
       "</div>"
      ],
      "text/plain": [
       "                       loan_amount  down_payment_amount  user_dob_year  \\\n",
       "merchant_name                                                            \n",
       "Swiss & Co.            2546.208569            49.000964    1972.475177   \n",
       "Roquefort NYC           453.286184            15.203195    1975.856954   \n",
       "Pepperjack Co.          888.336945             9.714471    1977.179552   \n",
       "Parmesan, LLC          4172.867291           216.859827    1971.487032   \n",
       "Mozzarella Factory      853.512246             9.556769    1973.058462   \n",
       "Monterey Jack Sparrow   812.712625            17.410095    1982.649165   \n",
       "Halloumi Boards        1391.042775            56.831410    1982.158590   \n",
       "Goat, LLC               996.364760            62.242434    1974.164915   \n",
       "Feta R Us               400.000000             0.000000    1981.000000   \n",
       "Cottage Company        1682.231163            24.348837    1974.023256   \n",
       "Cheddar Inc.            492.188950            22.369812    1973.999597   \n",
       "Brie Corp.              701.420705            23.597725    1976.273605   \n",
       "Blue Steel              175.333333            10.800000    1977.000000   \n",
       "Bagels & Cream          155.661268             5.188336    1985.388787   \n",
       "American Inc.          9420.000000             0.000000    1969.750000   \n",
       "\n",
       "                       loan_length_months       mdr       apr  fico_score  \\\n",
       "merchant_name                                                               \n",
       "Swiss & Co.                     11.559449  0.095166  0.007063  714.943262   \n",
       "Roquefort NYC                   11.404489  0.029000  0.262315  639.793574   \n",
       "Pepperjack Co.                   6.000000  0.060523  0.000000  668.502937   \n",
       "Parmesan, LLC                   10.746398  0.024254  0.219270  693.190202   \n",
       "Mozzarella Factory               7.163077  0.098363  0.067163  614.495385   \n",
       "Monterey Jack Sparrow           10.124105  0.029000  0.262694  627.420048   \n",
       "Halloumi Boards                  9.779736  0.033053  0.222990  688.127753   \n",
       "Goat, LLC                        9.489816  0.025000  0.260762  642.706965   \n",
       "Feta R Us                       12.000000  0.000000  0.300000  639.000000   \n",
       "Cottage Company                 10.186047  0.000000  0.252558  673.000000   \n",
       "Cheddar Inc.                     8.933671  0.019000  0.260621  640.769995   \n",
       "Brie Corp.                      10.431330  0.018000  0.261288  636.647711   \n",
       "Blue Steel                      12.000000  0.000000  0.253333  584.000000   \n",
       "Bagels & Cream                   7.261029  0.019000  0.262337  603.749081   \n",
       "American Inc.                   10.500000  0.030000  0.200000  715.750000   \n",
       "\n",
       "                       loan_return_percentage  \n",
       "merchant_name                                  \n",
       "Swiss & Co.                          0.063590  \n",
       "Roquefort NYC                        0.060482  \n",
       "Pepperjack Co.                       0.059155  \n",
       "Parmesan, LLC                        0.053688  \n",
       "Mozzarella Factory                   0.068753  \n",
       "Monterey Jack Sparrow                0.051861  \n",
       "Halloumi Boards                      0.057312  \n",
       "Goat, LLC                            0.062666  \n",
       "Feta R Us                            0.070500  \n",
       "Cottage Company                      0.058691  \n",
       "Cheddar Inc.                         0.059931  \n",
       "Brie Corp.                           0.062508  \n",
       "Blue Steel                           0.086700  \n",
       "Bagels & Cream                       0.063727  \n",
       "American Inc.                        0.113950  "
      ]
     },
     "execution_count": 181,
     "metadata": {},
     "output_type": "execute_result"
    }
   ],
   "source": [
    "tt=df.groupby('merchant_name', sort=False).mean()\n",
    "a=tt.sort_index( ascending=False)\n",
    "a"
   ]
  },
  {
   "cell_type": "markdown",
   "metadata": {},
   "source": [
    "# Using t-test to find the significant diffrence in the loan amount between Roquefort NYC and Brie Corp. "
   ]
  },
  {
   "cell_type": "code",
   "execution_count": 182,
   "metadata": {},
   "outputs": [],
   "source": [
    "df1 = df.loc[df['merchant_name'] == 'Roquefort NYC']\n",
    "df2 = df.loc[df['merchant_name'] == 'Brie Corp.']"
   ]
  },
  {
   "cell_type": "code",
   "execution_count": 183,
   "metadata": {},
   "outputs": [
    {
     "name": "stdout",
     "output_type": "stream",
     "text": [
      "3.0371011373127297e-51\n"
     ]
    }
   ],
   "source": [
    "(t, p) = stats.ttest_ind(df1['loan_amount'], df2['loan_amount']) \n",
    "print(p)"
   ]
  },
  {
   "cell_type": "markdown",
   "metadata": {},
   "source": [
    "According to the p-value at (3.0371011373127297e-51) I will reject the null hypothesis, therefore there is a significant difference between the two merchants which are Roquefort NYC and Brie Corp."
   ]
  },
  {
   "cell_type": "markdown",
   "metadata": {},
   "source": [
    "# Significant difference between the only two merchants that average a zero in the down payment. "
   ]
  },
  {
   "cell_type": "code",
   "execution_count": null,
   "metadata": {},
   "outputs": [],
   "source": [
    "df1 = df.loc[df['merchant_name'] == 'American Inc.']\n",
    "df2 = df.loc[df['merchant_name'] == 'Feta R Us']"
   ]
  },
  {
   "cell_type": "code",
   "execution_count": 201,
   "metadata": {},
   "outputs": [
    {
     "name": "stdout",
     "output_type": "stream",
     "text": [
      "0.684144096771323\n"
     ]
    }
   ],
   "source": [
    "(t, p) = stats.ttest_ind(df1['loan_return_percentage'], df2['loan_return_percentage']) \n",
    "print(p)"
   ]
  },
  {
   "cell_type": "markdown",
   "metadata": {},
   "source": [
    "According to the p-value at 0.6841 I failed to reject the null hypothesis, therefore there is significant difference in the loan return percantge even tho both American Inc. and Feta R Us are the only merchants that average zero in down payments."
   ]
  },
  {
   "cell_type": "markdown",
   "metadata": {},
   "source": [
    "# Uing t-test to find the significant difference of loan return percentage between Music and Apparel."
   ]
  },
  {
   "cell_type": "code",
   "execution_count": 116,
   "metadata": {},
   "outputs": [],
   "source": [
    "df3 = df.loc[df['category'] == 'Music']\n",
    "df4 = df.loc[df['category'] == 'Apparel']"
   ]
  },
  {
   "cell_type": "code",
   "execution_count": 107,
   "metadata": {},
   "outputs": [
    {
     "name": "stdout",
     "output_type": "stream",
     "text": [
      "0.666007303126552\n"
     ]
    }
   ],
   "source": [
    "(t, p) = stats.ttest_ind(df3['loan_return_percentage'], df4['loan_return_percentage']) \n",
    "print(p)"
   ]
  },
  {
   "cell_type": "markdown",
   "metadata": {},
   "source": [
    "According to the p-value at 0.666 I failed to reject the null hypotheis therefore, there is a significant difference between the two groups which is Music and Apparel."
   ]
  },
  {
   "cell_type": "markdown",
   "metadata": {},
   "source": [
    "# CONCLUSIONS AND RECOMMENATIONS"
   ]
  },
  {
   "cell_type": "markdown",
   "metadata": {},
   "source": [
    "I would recommend that, there should be seasonal promotions on jewelries mostly due to the fact that jewelries are the most expensive among the categories.The jewelry ategory had the higest loan amount as their average. There should be a discounts on returning customers that had a ceratin length of time for their previus payment. Which means shorter months would gain you an access to discounts. I aslo was ale to find out dwon payments doesnt affect the return of payment so merchnast shopuld disqulify individuals without a down payment. American Inc had the highest loan return amount percentage but had zero down paymernt amount as an average."
   ]
  },
  {
   "cell_type": "code",
   "execution_count": null,
   "metadata": {},
   "outputs": [],
   "source": []
  }
 ],
 "metadata": {
  "kernelspec": {
   "display_name": "Python 3",
   "language": "python",
   "name": "python3"
  },
  "language_info": {
   "codemirror_mode": {
    "name": "ipython",
    "version": 3
   },
   "file_extension": ".py",
   "mimetype": "text/x-python",
   "name": "python",
   "nbconvert_exporter": "python",
   "pygments_lexer": "ipython3",
   "version": "3.8.8"
  }
 },
 "nbformat": 4,
 "nbformat_minor": 4
}
